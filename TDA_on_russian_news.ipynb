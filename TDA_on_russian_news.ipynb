{
 "cells": [
  {
   "cell_type": "markdown",
   "metadata": {},
   "source": [
    "# TDA Analysis"
   ]
  },
  {
   "cell_type": "code",
   "execution_count": null,
   "metadata": {},
   "outputs": [],
   "source": [
    "!pip install pandas kmapper numpy scikit-learn deeppavlov torch matplotlib\n",
    "!pip install transformers \n",
    "!pip install pytorch-transformers\n",
    "!pip install dionysus\n",
    "!pip install scikit-tda"
   ]
  },
  {
   "cell_type": "code",
   "execution_count": 1,
   "metadata": {},
   "outputs": [],
   "source": [
    "import pandas as pd\n",
    "import kmapper as km\n",
    "import persim\n",
    "import re\n",
    "import numpy as np\n",
    "import sklearn.manifold as manifold\n",
    "import sklearn.cluster as clusters\n",
    "from deeppavlov.core.common.file import read_json\n",
    "from deeppavlov import build_model, configs\n",
    "from tqdm import tqdm"
   ]
  },
  {
   "cell_type": "markdown",
   "metadata": {},
   "source": [
    "We build our TDA research on Russian BERT model from DeepPavlov repo. Download model from http://files.deeppavlov.ai/deeppavlov_data/bert/rubert_cased_L-12_H-768_A-12_pt.tar.gz and unzip into './bert_torch/' folder"
   ]
  },
  {
   "cell_type": "code",
   "execution_count": 2,
   "metadata": {},
   "outputs": [
    {
     "name": "stderr",
     "output_type": "stream",
     "text": [
      "[nltk_data] Downloading package punkt to /home/malchul/nltk_data...\n",
      "[nltk_data]   Package punkt is already up-to-date!\n",
      "[nltk_data] Downloading package stopwords to\n",
      "[nltk_data]     /home/malchul/nltk_data...\n",
      "[nltk_data]   Package stopwords is already up-to-date!\n",
      "[nltk_data] Downloading package perluniprops to\n",
      "[nltk_data]     /home/malchul/nltk_data...\n",
      "[nltk_data]   Package perluniprops is already up-to-date!\n",
      "[nltk_data] Downloading package nonbreaking_prefixes to\n",
      "[nltk_data]     /home/malchul/nltk_data...\n",
      "[nltk_data]   Package nonbreaking_prefixes is already up-to-date!\n"
     ]
    }
   ],
   "source": [
    "bert_config = read_json(configs.embedder.bert_embedder)\n",
    "bert_config['metadata']['variables']['BERT_PATH'] = './bert_torch/'\n",
    "m = build_model(bert_config)"
   ]
  },
  {
   "cell_type": "markdown",
   "metadata": {},
   "source": [
    "Test embeddings BERT on text"
   ]
  },
  {
   "cell_type": "code",
   "execution_count": 3,
   "metadata": {},
   "outputs": [
    {
     "name": "stdout",
     "output_type": "stream",
     "text": [
      "[array([[-0.17643537, -0.50428253,  0.9171135 , ...,  0.27799606,\n",
      "        -0.23413935,  0.39191654],\n",
      "       [-0.29526496, -0.22406873,  0.01503195, ...,  1.3082079 ,\n",
      "        -0.01824506,  0.05571674],\n",
      "       [-0.4887036 , -0.8821178 , -0.6517777 , ...,  0.4404621 ,\n",
      "        -0.29753682,  0.02373977],\n",
      "       [ 0.03469221, -1.0020154 ,  0.17803702, ...,  1.4391162 ,\n",
      "        -0.27427924, -0.31130612]], dtype=float32), array([[-0.01635873, -0.29974014,  0.42747173, ...,  0.90875703,\n",
      "         0.85758984, -0.03401814],\n",
      "       [-0.3934805 , -0.3614329 ,  0.6456343 , ...,  0.77590495,\n",
      "         0.23402363, -0.1606261 ],\n",
      "       [-0.36421874, -0.03590979, -0.03548655, ..., -0.17517139,\n",
      "        -0.11703118, -0.21716051],\n",
      "       [ 0.00930831,  0.10694736, -0.7353675 , ...,  1.1392337 ,\n",
      "         0.27017418,  0.7586588 ],\n",
      "       [ 0.0806808 ,  0.5411068 ,  0.03924718, ...,  0.66805613,\n",
      "         0.24955022,  0.20233591],\n",
      "       [ 0.07684167,  0.4153759 ,  0.31532082, ...,  0.6612674 ,\n",
      "         0.05507208, -0.06030168]], dtype=float32)]\n"
     ]
    }
   ],
   "source": [
    "texts = ['Give me the embeddings', 'And mine too, please!']\n",
    "tokens, token_embs, subtokens, subtoken_embs, sent_max_embs, sent_mean_embs, bert_pooler_outputs = m(texts)\n",
    "print(token_embs)"
   ]
  },
  {
   "cell_type": "markdown",
   "metadata": {},
   "source": [
    "Read the news data. We get dataset from kaggle: https://www.kaggle.com/vfomenko/russian-news-2020"
   ]
  },
  {
   "cell_type": "code",
   "execution_count": 4,
   "metadata": {
    "scrolled": true
   },
   "outputs": [
    {
     "data": {
      "text/html": [
       "<div>\n",
       "<style scoped>\n",
       "    .dataframe tbody tr th:only-of-type {\n",
       "        vertical-align: middle;\n",
       "    }\n",
       "\n",
       "    .dataframe tbody tr th {\n",
       "        vertical-align: top;\n",
       "    }\n",
       "\n",
       "    .dataframe thead th {\n",
       "        text-align: right;\n",
       "    }\n",
       "</style>\n",
       "<table border=\"1\" class=\"dataframe\">\n",
       "  <thead>\n",
       "    <tr style=\"text-align: right;\">\n",
       "      <th></th>\n",
       "      <th>title</th>\n",
       "      <th>text</th>\n",
       "    </tr>\n",
       "  </thead>\n",
       "  <tbody>\n",
       "    <tr>\n",
       "      <th>0</th>\n",
       "      <td>синий богатырь</td>\n",
       "      <td>в 1930-е годы советский союз охватила лихорадк...</td>\n",
       "    </tr>\n",
       "    <tr>\n",
       "      <th>1</th>\n",
       "      <td>загитова согласилась вести  ледниковый период</td>\n",
       "      <td>олимпийская чемпионка по фигурному катанию  ал...</td>\n",
       "    </tr>\n",
       "    <tr>\n",
       "      <th>2</th>\n",
       "      <td>объяснена опасность однообразного питания</td>\n",
       "      <td>российский врач-диетолог римма мойсенко объясн...</td>\n",
       "    </tr>\n",
       "    <tr>\n",
       "      <th>3</th>\n",
       "      <td>предохраняться? а зачем?</td>\n",
       "      <td>в 2019 году телеканал  ю  запустил адаптацию з...</td>\n",
       "    </tr>\n",
       "    <tr>\n",
       "      <th>4</th>\n",
       "      <td>ефремов систематически употреблял наркотики</td>\n",
       "      <td>актер  михаил ефремов  систематически употребл...</td>\n",
       "    </tr>\n",
       "  </tbody>\n",
       "</table>\n",
       "</div>"
      ],
      "text/plain": [
       "                                            title  \\\n",
       "0                                  синий богатырь   \n",
       "1  загитова согласилась вести  ледниковый период    \n",
       "2       объяснена опасность однообразного питания   \n",
       "3                       предохраняться? а зачем?    \n",
       "4     ефремов систематически употреблял наркотики   \n",
       "\n",
       "                                                text  \n",
       "0  в 1930-е годы советский союз охватила лихорадк...  \n",
       "1  олимпийская чемпионка по фигурному катанию  ал...  \n",
       "2  российский врач-диетолог римма мойсенко объясн...  \n",
       "3  в 2019 году телеканал  ю  запустил адаптацию з...  \n",
       "4  актер  михаил ефремов  систематически употребл...  "
      ]
     },
     "execution_count": 4,
     "metadata": {},
     "output_type": "execute_result"
    }
   ],
   "source": [
    "news_data = pd.read_csv('./news.csv')\n",
    "news_data.drop(['publication_date','rubric','subrubric','tags','source'], inplace=True, axis=1)\n",
    "news_data = news_data.dropna(axis=0)\n",
    "news_data['text'] = news_data['text'].map(lambda x: re.sub('\\@|\\$|\\*|\\[|\\]|\\(|\\)|\\\"|\\^|\\~|\\{|\\}|\\<|\\>|\\,|\\'|\\:|\\»|\\«', ' ', x).lower() )\n",
    "news_data['title'] = news_data['title'].map(lambda x: re.sub('\\@|\\$|\\*|\\[|\\]|\\(|\\)|\\\"|\\^|\\~|\\{|\\}|\\<|\\>|\\,|\\'|\\:|\\»|\\«', ' ', str(x).lower()), na_action='ignore' )\n",
    "\n",
    "\n",
    "news_data.head()"
   ]
  },
  {
   "cell_type": "markdown",
   "metadata": {},
   "source": [
    "# Visualize data"
   ]
  },
  {
   "cell_type": "markdown",
   "metadata": {},
   "source": [
    "Visualize data via KeplerMapper. We use text from each news to build embedding for each sentence. In next cell we visualize only single article by next algo:\n",
    "1. Map sentence embeddings onto 2d plane via TSNE and MinMaxScaler that data be in [0,1] square. \n",
    "2. Cover projected points by overlapping squares. \n",
    "3. For each square we clusterize data in 2 cluster by hierarchical algorithm. \n",
    "4.  If clusters has the same node, we draw line. \n",
    "\n",
    "You can look at result  [here](./keplermapper_output.html)"
   ]
  },
  {
   "cell_type": "code",
   "execution_count": 5,
   "metadata": {},
   "outputs": [
    {
     "name": "stdout",
     "output_type": "stream",
     "text": [
      "KeplerMapper(verbose=1)\n",
      "..Composing projection pipeline of length 1:\n",
      "\tProjections: TSNE()\n",
      "\tDistance matrices: False\n",
      "\tScalers: MinMaxScaler()\n",
      "..Projecting on data shaped (94, 768)\n",
      "\n",
      "..Projecting data using: \n",
      "\tTSNE(verbose=1)\n",
      "\n",
      "[t-SNE] Computing 91 nearest neighbors...\n",
      "[t-SNE] Indexed 94 samples in 0.001s...\n",
      "[t-SNE] Computed neighbors for 94 samples in 0.055s...\n",
      "[t-SNE] Computed conditional probabilities for sample 94 / 94\n",
      "[t-SNE] Mean sigma: 3.042029\n",
      "[t-SNE] KL divergence after 250 iterations with early exaggeration: 74.245628\n",
      "[t-SNE] KL divergence after 1000 iterations: 0.720536\n",
      "\n",
      "..Scaling with: MinMaxScaler()\n",
      "\n",
      "MINUMUM:  [0. 0.]\n",
      "MAXIMUM:  [1. 1.]\n",
      "Mapping on data shaped (94, 768) using lens shaped (94, 2)\n",
      "\n",
      "Creating 25 hypercubes.\n",
      "\n",
      "Created 101 edges and 48 nodes in 0:00:00.234222.\n",
      "Wrote visualization to: keplermapper_output.html\n"
     ]
    }
   ],
   "source": [
    "N_COMPONENTS = 2\n",
    "N_CLUSTERS = 2\n",
    "\n",
    "text_sample = news_data['text'][0]\n",
    "# Initialize\n",
    "mapper = km.KeplerMapper(verbose=1)\n",
    "_, data, *_ = m(re.split('\\. |\\! |\\? ', text_sample))\n",
    "data = np.stack([sentence.mean(0) for sentence in data])\n",
    "\n",
    "# Fit to and transform the data\n",
    "projected_data = mapper.fit_transform(data, projection=manifold.TSNE(n_components=N_COMPONENTS)) # X-Y axis\n",
    "\n",
    "print('MINUMUM: ', projected_data.min(0))\n",
    "print('MAXIMUM: ', projected_data.max(0))\n",
    "# Create dictionary called 'graph' with nodes, edges and meta-information\n",
    "graph = mapper.map(projected_data, data, cover=km.Cover(n_cubes=5, perc_overlap=0.33), clusterer = clusters.AgglomerativeClustering(n_clusters=N_CLUSTERS, linkage='complete', affinity='cosine'))\n",
    "\n",
    "# Visualize it\n",
    "mapper.visualize(graph, path_html=\"keplermapper_output.html\",\n",
    "                 title=\"TSNE for 1 article\")\n",
    "pass"
   ]
  },
  {
   "cell_type": "markdown",
   "metadata": {},
   "source": [
    "The same algorithm but for 2 articles.\n",
    "\n",
    "Visualization result can be found [here](./full_output.html)"
   ]
  },
  {
   "cell_type": "code",
   "execution_count": 45,
   "metadata": {},
   "outputs": [
    {
     "name": "stdout",
     "output_type": "stream",
     "text": [
      "KeplerMapper(verbose=1)\n",
      "..Composing projection pipeline of length 1:\n",
      "\tProjections: TSNE()\n",
      "\tDistance matrices: False\n",
      "\tScalers: MinMaxScaler()\n",
      "..Projecting on data shaped (270, 768)\n",
      "\n",
      "..Projecting data using: \n",
      "\tTSNE(verbose=1)\n",
      "\n",
      "[t-SNE] Computing 91 nearest neighbors...\n",
      "[t-SNE] Indexed 270 samples in 0.011s...\n",
      "[t-SNE] Computed neighbors for 270 samples in 0.136s...\n",
      "[t-SNE] Computed conditional probabilities for sample 270 / 270\n",
      "[t-SNE] Mean sigma: 3.044739\n",
      "[t-SNE] KL divergence after 250 iterations with early exaggeration: 83.877007\n",
      "[t-SNE] KL divergence after 1000 iterations: 0.903379\n",
      "\n",
      "..Scaling with: MinMaxScaler()\n",
      "\n",
      "MINUMUM:  [0. 0.]\n",
      "MAXIMUM:  [1. 1.]\n",
      "Mapping on data shaped (270, 768) using lens shaped (270, 2)\n",
      "\n",
      "Creating 625 hypercubes.\n",
      "\n",
      "Created 1033 edges and 572 nodes in 0:00:00.271968.\n",
      "Wrote visualization to: full_output.html\n"
     ]
    }
   ],
   "source": [
    "def func():\n",
    "    N_COMPONENTS = 2\n",
    "    N_CLUSTERS = 2\n",
    "    full_data = []\n",
    "    full_colors = []\n",
    "    for i, row in enumerate(news_data['text'][[0,3]]):\n",
    "        _, data, *_ = m(re.split('\\. |\\! |\\? ', row))\n",
    "        data = [sentence.mean(0) for sentence in data]\n",
    "        full_data.extend(data)\n",
    "        full_colors.extend([i for _ in data])\n",
    "        \n",
    "    full_data = np.stack(full_data) \n",
    "    mapper = km.KeplerMapper(verbose=1)\n",
    "\n",
    "    projected_data = mapper.fit_transform(full_data, projection=manifold.TSNE(n_components=N_COMPONENTS)) # X-Y axis\n",
    "\n",
    "    print('MINUMUM: ', projected_data.min(0))\n",
    "    print('MAXIMUM: ', projected_data.max(0))\n",
    "    # Create dictionary called 'graph' with nodes, edges and meta-information\n",
    "    graph = mapper.map(projected_data, full_data, cover=km.Cover(n_cubes=25, perc_overlap=0.5), clusterer = clusters.AgglomerativeClustering(n_clusters=N_CLUSTERS, linkage='complete', affinity='cosine'))\n",
    "\n",
    "    # Visualize it\n",
    "    mapper.visualize(graph, path_html=\"full_output.html\",title=\"TSNE for 2 article\", color_function=np.array(full_colors))\n",
    "func()    "
   ]
  },
  {
   "cell_type": "markdown",
   "metadata": {},
   "source": [
    "# Create barcodes"
   ]
  },
  {
   "cell_type": "markdown",
   "metadata": {},
   "source": [
    "We show some barcodes for loops"
   ]
  },
  {
   "cell_type": "code",
   "execution_count": 7,
   "metadata": {},
   "outputs": [],
   "source": [
    "import dionysus\n",
    "def bar_emb(emb, r):\n",
    "    N, d = emb.shape\n",
    "    f = dionysus.fill_rips(emb,d,r)\n",
    "    print(f)\n",
    "    m = dionysus.homology_persistence(f)\n",
    "    dmgs = dionysus.init_diagrams(m,f)\n",
    "    print(dmgs)\n",
    "    dionysus.plot.plot_bars(dmgs[1], show=True)\n",
    "    return dmgs"
   ]
  },
  {
   "cell_type": "code",
   "execution_count": 8,
   "metadata": {},
   "outputs": [
    {
     "name": "stdout",
     "output_type": "stream",
     "text": [
      "14461\n",
      "2.6401403 -4.2170568\n",
      "Filtration with 198207 simplices\n",
      "[Diagram with 29 points, Diagram with 7 points, Diagram with 0 points, Diagram with 0 points, Diagram with 0 points, Diagram with 0 points, Diagram with 0 points, Diagram with 0 points, Diagram with 0 points, Diagram with 0 points, Diagram with 0 points, Diagram with 0 points, Diagram with 0 points, Diagram with 0 points, Diagram with 0 points]\n"
     ]
    },
    {
     "data": {
      "image/png": "[encoded data removed]",
      "text/plain": [
       "<Figure size 432x288 with 1 Axes>"
      ]
     },
     "metadata": {
      "needs_background": "light"
     },
     "output_type": "display_data"
    }
   ],
   "source": [
    "raduis = 20\n",
    "\n",
    "question = ''\n",
    "full_data = []\n",
    "article_ids = []\n",
    "for i, row in enumerate(news_data['text'][:100]):\n",
    "    if i > 0:\n",
    "            break\n",
    "    #text_sample = news_data['text'][0]\n",
    "    print(len(row))\n",
    "    _, data, *_ = m(re.split('\\. |\\! |\\? ', row))\n",
    "    for sen_id, sentence in enumerate(data):\n",
    "        if sen_id > 0:\n",
    "            break\n",
    "        print(sentence.max(), sentence.min())\n",
    "        bar_emb(sentence, raduis)\n",
    "    full_data.extend(data)\n",
    "    \n",
    "    article_ids.extend([i for _ in data])\n",
    "    \n",
    "    \n"
   ]
  },
  {
   "cell_type": "code",
   "execution_count": 9,
   "metadata": {},
   "outputs": [
    {
     "name": "stdout",
     "output_type": "stream",
     "text": [
      "14461\n",
      "2.7350333 -3.4434593 20\n",
      "Filtration with 327679 simplices\n",
      "[Diagram with 20 points, Diagram with 4 points, Diagram with 0 points, Diagram with 0 points, Diagram with 0 points, Diagram with 0 points, Diagram with 0 points, Diagram with 0 points, Diagram with 0 points, Diagram with 0 points, Diagram with 0 points, Diagram with 0 points, Diagram with 0 points, Diagram with 0 points, Diagram with 0 points, Diagram with 0 points, Diagram with 0 points, Diagram with 0 points]\n"
     ]
    },
    {
     "data": {
      "image/png": "[encoded data removed]",
      "text/plain": [
       "<Figure size 432x288 with 1 Axes>"
      ]
     },
     "metadata": {
      "needs_background": "light"
     },
     "output_type": "display_data"
    }
   ],
   "source": [
    "raduis = 20\n",
    "\n",
    "question = ''\n",
    "full_data = []\n",
    "article_ids = []\n",
    "for i, row in enumerate(news_data['text'][:100]):\n",
    "    if i > 0:\n",
    "            break\n",
    "    #text_sample = news_data['text'][0]\n",
    "    print(len(row))\n",
    "    _, data, *_ = m(re.split('\\. |\\! |\\? ', row))\n",
    "    for sen_id, sentence in enumerate(data):\n",
    "        if sen_id != 2:\n",
    "            continue\n",
    "        print(sentence.max(), sentence.min(), len(sentence))\n",
    "        bar_emb(sentence, raduis)\n",
    "    full_data.extend(data)\n",
    "    \n",
    "    article_ids.extend([i for _ in data])\n",
    "    \n",
    "    \n"
   ]
  },
  {
   "cell_type": "markdown",
   "metadata": {},
   "source": [
    "# Use TDA for text similarity"
   ]
  },
  {
   "cell_type": "markdown",
   "metadata": {},
   "source": [
    "We try to use TDA in text similarity from this paper https://arxiv.org/abs/2003.13138"
   ]
  },
  {
   "cell_type": "code",
   "execution_count": 10,
   "metadata": {},
   "outputs": [],
   "source": [
    "\n",
    "from ripser import ripser\n",
    "from persim import plot_diagrams\n",
    "import matplotlib.pyplot as plt\n",
    "import numpy as np\n",
    "from sklearn import datasets"
   ]
  },
  {
   "cell_type": "code",
   "execution_count": 11,
   "metadata": {},
   "outputs": [],
   "source": [
    "import scipy.signal as signal\n",
    "from scipy.spatial import distance\n",
    "\n",
    "\n",
    "\n",
    "\n",
    "def smooth_sequence(embs):\n",
    "    KERNEL = np.array([1/8,1/4,1/2,1/2,1/4,1/8])\n",
    "    T,d = embs.shape\n",
    "    local_kernel = np.tile(KERNEL, (1,d))\n",
    "    embs[0] += KERNEL[0] * embs[0]\n",
    "    embs[-1] += KERNEL[-1] * embs[-1]\n",
    "    smoothed_embs = signal.convolve2d(embs, local_kernel, mode='same')\n",
    "    return smoothed_embs\n",
    "\n",
    "# def distance_matrix(embs):\n",
    "#     T,d = embs.shape\n",
    "#     matrix = np.zeros([T,T], dtype=np.float32)\n",
    "#     for i in range(T):\n",
    "#         emb_i = embs[i]\n",
    "#         for j in range(T):\n",
    "#             emb_j = embs[j] \n",
    "#             matrix[i,j] = 1/T * np.linalg.norm(emb_i/ np.sqrt(d)) * np.linalg.norm(emb_j/ np.sqrt(d)) * (distance.cosine(emb_i / np.sqrt(d), emb_j / np.sqrt(d)))\n",
    "#     return matrix\n",
    "\n",
    "def distance_matrix(embs):\n",
    "    embs = embs.T\n",
    "    d, T = embs.shape\n",
    "    matrix = np.zeros([d,d], dtype=np.float32)\n",
    "    for i in range(d):\n",
    "        emb_i = embs[i]\n",
    "        for j in range(d):\n",
    "            emb_j = embs[j] \n",
    "            matrix[i,j] = 1/T * np.linalg.norm(emb_i) * np.linalg.norm(emb_j) * (distance.cosine(emb_i / T, emb_j / T))\n",
    "    return matrix\n",
    "\n",
    "\n",
    "def get_dmgs(embs):\n",
    "    #smoothed = smooth_sequence(embs)\n",
    "    dgms = ripser(embs.T, maxdim=1, distance_matrix=False)['dgms']\n",
    "    return dgms\n",
    "\n",
    "\n",
    "# def get_dmgs(embs):\n",
    "#     smoothed = smooth_sequence(embs)\n",
    "#     matrix = distance_matrix(embs)\n",
    "#     dgms = ripser(matrix, maxdim=1, distance_matrix=True)['dgms']\n",
    "#     return dgms\n",
    "\n",
    "\n",
    "\n"
   ]
  },
  {
   "cell_type": "markdown",
   "metadata": {},
   "source": [
    "Example usage"
   ]
  },
  {
   "cell_type": "code",
   "execution_count": 12,
   "metadata": {},
   "outputs": [
    {
     "data": {
      "image/png": "[encoded data removed]",
      "text/plain": [
       "<Figure size 432x288 with 1 Axes>"
      ]
     },
     "metadata": {
      "needs_background": "light"
     },
     "output_type": "display_data"
    }
   ],
   "source": [
    "x = np.random.randn(20,100)\n",
    "smoothed = smooth_sequence(x)\n",
    "#print(smoothed.shape)\n",
    "#print(smoothed)\n",
    "\n",
    "#print(distance_matrix(smoothed).shape)\n",
    "#print(get_dmgs(x))\n",
    "distance_matrix(smoothed).max()\n",
    "x = np.random.randn(20,100)\n",
    "smoothed = smooth_sequence(x)\n",
    "\n",
    "matrix = distance_matrix(smoothed)\n",
    "dgms = ripser(matrix, maxdim=1, distance_matrix=True)['dgms']\n",
    "plot_diagrams(dgms, show=True)"
   ]
  },
  {
   "cell_type": "markdown",
   "metadata": {},
   "source": [
    "# Create persistent diagrams"
   ]
  },
  {
   "cell_type": "markdown",
   "metadata": {},
   "source": [
    "We try to create persistent diagrams for 5 first articles and compare this by wasserstein distance"
   ]
  },
  {
   "cell_type": "code",
   "execution_count": 13,
   "metadata": {
    "scrolled": true
   },
   "outputs": [
    {
     "name": "stdout",
     "output_type": "stream",
     "text": [
      "14461\n"
     ]
    },
    {
     "name": "stderr",
     "output_type": "stream",
     "text": [
      "  2%|▏         | 2/94 [00:01<01:08,  1.34it/s]"
     ]
    },
    {
     "data": {
      "image/png": "[encoded data removed]",
      "text/plain": [
       "<Figure size 640x480 with 1 Axes>"
      ]
     },
     "metadata": {},
     "output_type": "display_data"
    },
    {
     "name": "stderr",
     "output_type": "stream",
     "text": [
      "100%|██████████| 94/94 [00:58<00:00,  1.61it/s]\n"
     ]
    },
    {
     "name": "stdout",
     "output_type": "stream",
     "text": [
      "1168\n"
     ]
    },
    {
     "name": "stderr",
     "output_type": "stream",
     "text": [
      " 18%|█▊        | 2/11 [00:01<00:05,  1.55it/s]"
     ]
    },
    {
     "data": {
      "image/png": "[encoded data removed]",
      "text/plain": [
       "<Figure size 640x480 with 1 Axes>"
      ]
     },
     "metadata": {},
     "output_type": "display_data"
    },
    {
     "name": "stderr",
     "output_type": "stream",
     "text": [
      "100%|██████████| 11/11 [00:07<00:00,  1.51it/s]\n"
     ]
    },
    {
     "name": "stdout",
     "output_type": "stream",
     "text": [
      "1069\n"
     ]
    },
    {
     "name": "stderr",
     "output_type": "stream",
     "text": [
      " 17%|█▋        | 2/12 [00:01<00:06,  1.54it/s]"
     ]
    },
    {
     "data": {
      "image/png": "[encoded data removed]",
      "text/plain": [
       "<Figure size 640x480 with 1 Axes>"
      ]
     },
     "metadata": {},
     "output_type": "display_data"
    },
    {
     "name": "stderr",
     "output_type": "stream",
     "text": [
      "100%|██████████| 12/12 [00:07<00:00,  1.55it/s]\n"
     ]
    },
    {
     "name": "stdout",
     "output_type": "stream",
     "text": [
      "20411\n"
     ]
    },
    {
     "name": "stderr",
     "output_type": "stream",
     "text": [
      "  1%|          | 2/176 [00:01<01:47,  1.61it/s]"
     ]
    },
    {
     "data": {
      "image/png": "[encoded data removed]",
      "text/plain": [
       "<Figure size 640x480 with 1 Axes>"
      ]
     },
     "metadata": {},
     "output_type": "display_data"
    },
    {
     "name": "stderr",
     "output_type": "stream",
     "text": [
      "100%|██████████| 176/176 [01:49<00:00,  1.61it/s]\n"
     ]
    },
    {
     "name": "stdout",
     "output_type": "stream",
     "text": [
      "1058\n"
     ]
    },
    {
     "name": "stderr",
     "output_type": "stream",
     "text": [
      " 17%|█▋        | 2/12 [00:01<00:06,  1.58it/s]"
     ]
    },
    {
     "data": {
      "image/png": "[encoded data removed]",
      "text/plain": [
       "<Figure size 640x480 with 1 Axes>"
      ]
     },
     "metadata": {},
     "output_type": "display_data"
    },
    {
     "name": "stderr",
     "output_type": "stream",
     "text": [
      "100%|██████████| 12/12 [00:07<00:00,  1.54it/s]\n"
     ]
    }
   ],
   "source": [
    "full_data = []\n",
    "for i, row in enumerate(news_data['text'][:5]):\n",
    "    curr_data = []\n",
    "    #text_sample = news_data['text'][0]\n",
    "    print(len(row))\n",
    "    _, data, *_ = m(re.split('\\. |\\! |\\? ', row))\n",
    "    for sen_id, sentence in tqdm(list(enumerate(data))):\n",
    "        \n",
    "        dgms = get_dmgs(sentence)\n",
    "        if sen_id == 2:\n",
    "            plot_diagrams(dgms, show=True)\n",
    "        curr_data.append(dgms)\n",
    "    full_data.append(curr_data)"
   ]
  },
  {
   "cell_type": "markdown",
   "metadata": {},
   "source": [
    "Filter diagrams without loops"
   ]
  },
  {
   "cell_type": "code",
   "execution_count": 14,
   "metadata": {},
   "outputs": [
    {
     "name": "stdout",
     "output_type": "stream",
     "text": [
      "before filtration [94, 11, 12, 176, 12]\n",
      "after_filtration [94, 11, 12, 176, 12]\n"
     ]
    }
   ],
   "source": [
    "def filter_rips(dmgs):\n",
    "    return [elem for elem in dmgs if type(elem)==list and len(elem)>=2 and len(elem[1]) >= 1]\n",
    "\n",
    "print('before filtration', [len(el) for el in full_data])\n",
    "full_data = [filter_rips(elem) for elem in full_data]\n",
    "print('after_filtration', [len(el) for el in full_data])"
   ]
  },
  {
   "cell_type": "code",
   "execution_count": 15,
   "metadata": {},
   "outputs": [],
   "source": [
    "def find_min_distance(key_dmg, dmgs, axis=1):\n",
    "    wdistance = []\n",
    "    for el in dmgs:\n",
    "        wdistance.append(persim.sliced_wasserstein(key_dmg[axis], el[axis]))\n",
    "    return np.min(wdistance)"
   ]
  },
  {
   "cell_type": "markdown",
   "metadata": {},
   "source": [
    "Compare diagrams"
   ]
  },
  {
   "cell_type": "code",
   "execution_count": 41,
   "metadata": {},
   "outputs": [
    {
     "name": "stdout",
     "output_type": "stream",
     "text": [
      "в акте освидетельствования  датированном 8 июня  днем аварии   говорится  что ефремов не отрицает употребление алкоголя\n"
     ]
    },
    {
     "data": {
      "image/png": "[encoded data removed]",
      "text/plain": [
       "<Figure size 640x480 with 1 Axes>"
      ]
     },
     "metadata": {},
     "output_type": "display_data"
    }
   ],
   "source": [
    "question = 'В акте освидетельствования, датированном 8 июня (днем аварии), говорится, что Ефремов не отрицает употребление алкоголя'\n",
    "#question = 'Днем 9 июня Ефремова доставили на допрос в УВД по Центральному административному округу Москвы.'\n",
    "#question = 'Проблемы ранней беременности существует во многих странах'\n",
    "\n",
    "question = re.sub('\\@|\\$|\\*|\\[|\\]|\\(|\\)|\\\"|\\^|\\~|\\{|\\}|\\<|\\>|\\,|\\'|\\:|\\»|\\«' + '|\\.|\\!|\\?', ' ', question).lower()\n",
    "print(question)\n",
    "_, data, *_ = m(re.split('\\. |\\! |\\? ', question))        \n",
    "question_dgm = get_dmgs(data[0])\n",
    "plot_diagrams(question_dgm, show=True)"
   ]
  },
  {
   "cell_type": "code",
   "execution_count": 42,
   "metadata": {},
   "outputs": [
    {
     "data": {
      "text/html": [
       "<div>\n",
       "<style scoped>\n",
       "    .dataframe tbody tr th:only-of-type {\n",
       "        vertical-align: middle;\n",
       "    }\n",
       "\n",
       "    .dataframe tbody tr th {\n",
       "        vertical-align: top;\n",
       "    }\n",
       "\n",
       "    .dataframe thead th {\n",
       "        text-align: right;\n",
       "    }\n",
       "</style>\n",
       "<table border=\"1\" class=\"dataframe\">\n",
       "  <thead>\n",
       "    <tr style=\"text-align: right;\">\n",
       "      <th></th>\n",
       "      <th>title</th>\n",
       "      <th>text</th>\n",
       "    </tr>\n",
       "  </thead>\n",
       "  <tbody>\n",
       "    <tr>\n",
       "      <th>0</th>\n",
       "      <td>синий богатырь</td>\n",
       "      <td>в 1930-е годы советский союз охватила лихорадк...</td>\n",
       "    </tr>\n",
       "    <tr>\n",
       "      <th>1</th>\n",
       "      <td>загитова согласилась вести  ледниковый период</td>\n",
       "      <td>олимпийская чемпионка по фигурному катанию  ал...</td>\n",
       "    </tr>\n",
       "    <tr>\n",
       "      <th>2</th>\n",
       "      <td>объяснена опасность однообразного питания</td>\n",
       "      <td>российский врач-диетолог римма мойсенко объясн...</td>\n",
       "    </tr>\n",
       "    <tr>\n",
       "      <th>3</th>\n",
       "      <td>предохраняться? а зачем?</td>\n",
       "      <td>в 2019 году телеканал  ю  запустил адаптацию з...</td>\n",
       "    </tr>\n",
       "    <tr>\n",
       "      <th>4</th>\n",
       "      <td>ефремов систематически употреблял наркотики</td>\n",
       "      <td>актер  михаил ефремов  систематически употребл...</td>\n",
       "    </tr>\n",
       "  </tbody>\n",
       "</table>\n",
       "</div>"
      ],
      "text/plain": [
       "                                            title  \\\n",
       "0                                  синий богатырь   \n",
       "1  загитова согласилась вести  ледниковый период    \n",
       "2       объяснена опасность однообразного питания   \n",
       "3                       предохраняться? а зачем?    \n",
       "4     ефремов систематически употреблял наркотики   \n",
       "\n",
       "                                                text  \n",
       "0  в 1930-е годы советский союз охватила лихорадк...  \n",
       "1  олимпийская чемпионка по фигурному катанию  ал...  \n",
       "2  российский врач-диетолог римма мойсенко объясн...  \n",
       "3  в 2019 году телеканал  ю  запустил адаптацию з...  \n",
       "4  актер  михаил ефремов  систематически употребл...  "
      ]
     },
     "execution_count": 42,
     "metadata": {},
     "output_type": "execute_result"
    }
   ],
   "source": [
    "news_data.head()"
   ]
  },
  {
   "cell_type": "code",
   "execution_count": 43,
   "metadata": {},
   "outputs": [
    {
     "data": {
      "text/plain": [
       "'в акте освидетельствования  датированном 8 июня  днем аварии   говорится  что ефремов не отрицает употребление алкоголя'"
      ]
     },
     "execution_count": 43,
     "metadata": {},
     "output_type": "execute_result"
    }
   ],
   "source": [
    "question"
   ]
  },
  {
   "cell_type": "code",
   "execution_count": 44,
   "metadata": {},
   "outputs": [
    {
     "name": "stdout",
     "output_type": "stream",
     "text": [
      "0 6.862851500586229\n",
      "1 11.655346209092817\n",
      "2 6.67508293719878\n",
      "3 5.474059547177805\n",
      "4 5.339287703917762\n"
     ]
    }
   ],
   "source": [
    "for i,dmgs in enumerate(full_data):\n",
    "    print(i, find_min_distance(question_dgm, dmgs))"
   ]
  },
  {
   "cell_type": "markdown",
   "metadata": {},
   "source": [
    "# Text Retrieval"
   ]
  },
  {
   "cell_type": "markdown",
   "metadata": {},
   "source": [
    "As we saw before our data can be separated. We use SVM classifier to solve this task with 'ovo' strategy because for 2 differen articles data places in different clusters."
   ]
  },
  {
   "cell_type": "code",
   "execution_count": 20,
   "metadata": {},
   "outputs": [],
   "source": [
    "from sklearn.decomposition import PCA\n",
    "import numpy as np\n",
    "from sklearn.model_selection import train_test_split\n",
    "from sklearn.svm import SVC\n",
    "from sklearn.pipeline import make_pipeline"
   ]
  },
  {
   "cell_type": "code",
   "execution_count": 21,
   "metadata": {},
   "outputs": [],
   "source": [
    "\n",
    "def vis_tsne(text_data, idxs):\n",
    "    sentence_embs = []\n",
    "    sentence_ids = []\n",
    "    for i, row in tqdm(enumerate(text_data[idxs]), total=len(idxs)):\n",
    "        _, data, *_, sent_mean_embs, _ = m(re.split('\\. |\\! |\\? ', row))\n",
    "        sentence_embs.extend(list(sent_mean_embs))\n",
    "        sentence_ids.extend([i for _ in range(len(sent_mean_embs))])\n",
    "\n",
    "    #mapper = manifold.TSNE(n_components=N_COMPONENTS)\n",
    "    mapper = PCA(n_components=N_COMPONENTS)\n",
    "    sentences_2d = np.stack(sentence_embs)\n",
    "    print(sentences_2d.shape)\n",
    "    tsne_results = mapper.fit_transform(sentences_2d)\n",
    "\n",
    "    plt.figure(figsize=(10, 10))\n",
    "\n",
    "    sentence_label = np.array(sentence_ids)\n",
    "    for i, c in zip(sentence_label, sentence_ids):\n",
    "        plt.scatter(tsne_results[sentence_label == i, 0], tsne_results[sentence_label == i, 1], label=sentence_ids)\n",
    "    plt.show()"
   ]
  },
  {
   "cell_type": "markdown",
   "metadata": {},
   "source": [
    "Visualize 2 different articles"
   ]
  },
  {
   "cell_type": "code",
   "execution_count": 22,
   "metadata": {},
   "outputs": [
    {
     "name": "stderr",
     "output_type": "stream",
     "text": [
      "100%|██████████| 2/2 [00:22<00:00, 11.26s/it]\n"
     ]
    },
    {
     "name": "stdout",
     "output_type": "stream",
     "text": [
      "(270, 768)\n"
     ]
    },
    {
     "data": {
      "image/png": "[encoded data removed]",
      "text/plain": [
       "<Figure size 1000x1000 with 1 Axes>"
      ]
     },
     "metadata": {},
     "output_type": "display_data"
    }
   ],
   "source": [
    "\n",
    "vis_tsne(news_data['text'], [0,3])"
   ]
  },
  {
   "cell_type": "code",
   "execution_count": 31,
   "metadata": {},
   "outputs": [
    {
     "name": "stderr",
     "output_type": "stream",
     "text": [
      "100%|██████████| 2/2 [00:02<00:00,  1.10s/it]\n"
     ]
    },
    {
     "name": "stdout",
     "output_type": "stream",
     "text": [
      "(33, 768)\n"
     ]
    },
    {
     "data": {
      "image/png": "[encoded data removed]",
      "text/plain": [
       "<Figure size 1000x1000 with 1 Axes>"
      ]
     },
     "metadata": {},
     "output_type": "display_data"
    }
   ],
   "source": [
    "\n",
    "vis_tsne(news_data['text'], [6,11])"
   ]
  },
  {
   "cell_type": "code",
   "execution_count": 24,
   "metadata": {},
   "outputs": [
    {
     "name": "stderr",
     "output_type": "stream",
     "text": [
      "100%|██████████| 200/200 [03:00<00:00,  1.11it/s]\n"
     ]
    }
   ],
   "source": [
    "\n",
    "NEWS_SIZE = 200\n",
    "\n",
    "sentence_embs = []\n",
    "sentence_ids = []\n",
    "for i, row in tqdm(enumerate(news_data['text'][:NEWS_SIZE]), total=NEWS_SIZE):\n",
    "    _, data, *_, sent_mean_embs, _ = m(re.split('\\. |\\! |\\? ', row))\n",
    "    sentence_embs.extend(list(sent_mean_embs))\n",
    "    sentence_ids.extend([i for _ in range(len(sent_mean_embs))])\n",
    "\n",
    "\n",
    "sentence_embs = np.array(sentence_embs)\n",
    "sentence_ids = np.array(sentence_ids)\n",
    "\n",
    "X_train, X_test, y_train, y_test = train_test_split(\n",
    "    sentence_embs, sentence_ids, test_size=0.2, random_state=42)\n"
   ]
  },
  {
   "cell_type": "markdown",
   "metadata": {},
   "source": [
    "# Some experiments"
   ]
  },
  {
   "cell_type": "markdown",
   "metadata": {},
   "source": [
    "By using TDA we found that data can be placed into 2 different cluster on 2d space separated by line. By this knowlegde we use SVM classifier with linear kernel to find nearest paper to query."
   ]
  },
  {
   "cell_type": "markdown",
   "metadata": {},
   "source": [
    "SVC with default kernel"
   ]
  },
  {
   "cell_type": "code",
   "execution_count": 25,
   "metadata": {},
   "outputs": [
    {
     "name": "stdout",
     "output_type": "stream",
     "text": [
      "SVC with default rbf kernel ovo score 0.20246478873239437\n"
     ]
    }
   ],
   "source": [
    "clf = make_pipeline(SVC(gamma='auto', decision_function_shape='ovo', kernel='rbf'))\n",
    "clf.fit(X_train, y_train)\n",
    "print('SVC with default rbf kernel ovo score', clf.score(X_test, y_test))\n"
   ]
  },
  {
   "cell_type": "markdown",
   "metadata": {},
   "source": [
    "SVC with no kernel"
   ]
  },
  {
   "cell_type": "code",
   "execution_count": 26,
   "metadata": {},
   "outputs": [
    {
     "name": "stdout",
     "output_type": "stream",
     "text": [
      "SVC with linear kernel ovo score  with PCA 0.11091549295774648\n"
     ]
    }
   ],
   "source": [
    "\n",
    "clf = make_pipeline(PCA(N_COMPONENTS), SVC(gamma='auto', decision_function_shape='ovo', kernel='linear'))\n",
    "clf.fit(X_train, y_train)\n",
    "print('SVC with linear kernel ovo score  with PCA', clf.score(X_test, y_test))"
   ]
  },
  {
   "cell_type": "code",
   "execution_count": 27,
   "metadata": {},
   "outputs": [
    {
     "name": "stdout",
     "output_type": "stream",
     "text": [
      "SVC with linear kernel ovo score 0.4119718309859155\n"
     ]
    }
   ],
   "source": [
    "clf = make_pipeline(SVC(gamma='auto', decision_function_shape='ovo', kernel='linear'))\n",
    "clf.fit(X_train, y_train)\n",
    "print('SVC with linear kernel ovo score', clf.score(X_test, y_test))\n"
   ]
  },
  {
   "cell_type": "markdown",
   "metadata": {},
   "source": [
    "As we see by using TDA we can alalyse what distribution lies for data and use simple and fast algorythms to make fast acceptable baseline and then find better solution"
   ]
  },
  {
   "cell_type": "code",
   "execution_count": null,
   "metadata": {},
   "outputs": [],
   "source": []
  }
 ],
 "metadata": {
  "kernelspec": {
   "display_name": "Python 3",
   "language": "python",
   "name": "python3"
  },
  "language_info": {
   "codemirror_mode": {
    "name": "ipython",
    "version": 3
   },
   "file_extension": ".py",
   "mimetype": "text/x-python",
   "name": "python",
   "nbconvert_exporter": "python",
   "pygments_lexer": "ipython3",
   "version": "3.6.9"
  }
 },
 "nbformat": 4,
 "nbformat_minor": 4
}
