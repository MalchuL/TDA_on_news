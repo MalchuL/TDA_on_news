{
 "cells": [
  {
   "cell_type": "markdown",
   "metadata": {},
   "source": [
    "# TDA Analysis"
   ]
  },
  {
   "cell_type": "code",
   "execution_count": 1,
   "metadata": {},
   "outputs": [
    {
     "name": "stdout",
     "output_type": "stream",
     "text": [
      "Requirement already satisfied: pandas in ./venv/lib/python3.6/site-packages (1.1.3)\n",
      "Requirement already satisfied: kmapper in ./venv/lib/python3.6/site-packages (1.4.1)\n",
      "Requirement already satisfied: numpy in ./venv/lib/python3.6/site-packages (1.19.2)\n",
      "Requirement already satisfied: scikit-learn in ./venv/lib/python3.6/site-packages (0.23.2)\n",
      "Requirement already satisfied: deeppavlov in ./venv/lib/python3.6/site-packages (0.12.1)\n",
      "Requirement already satisfied: torch in ./venv/lib/python3.6/site-packages (1.6.0)\n",
      "Requirement already satisfied: matplotlib in ./venv/lib/python3.6/site-packages (3.3.2)\n",
      "Requirement already satisfied: python-dateutil>=2.7.3 in ./venv/lib/python3.6/site-packages (from pandas) (2.8.1)\n",
      "Requirement already satisfied: pytz>=2017.2 in ./venv/lib/python3.6/site-packages (from pandas) (2020.1)\n",
      "Requirement already satisfied: scipy in ./venv/lib/python3.6/site-packages (from kmapper) (1.5.2)\n",
      "Requirement already satisfied: Jinja2 in ./venv/lib/python3.6/site-packages (from kmapper) (2.11.2)\n",
      "Requirement already satisfied: joblib>=0.11 in ./venv/lib/python3.6/site-packages (from scikit-learn) (0.17.0)\n",
      "Requirement already satisfied: threadpoolctl>=2.0.0 in ./venv/lib/python3.6/site-packages (from scikit-learn) (2.1.0)\n",
      "Requirement already satisfied: nltk==3.4.5 in ./venv/lib/python3.6/site-packages (from deeppavlov) (3.4.5)\n",
      "Requirement already satisfied: h5py==2.10.0 in ./venv/lib/python3.6/site-packages (from deeppavlov) (2.10.0)\n",
      "Requirement already satisfied: pymorphy2-dicts-ru in ./venv/lib/python3.6/site-packages (from deeppavlov) (2.4.417127.4579844)\n",
      "Requirement already satisfied: pymorphy2==0.8 in ./venv/lib/python3.6/site-packages (from deeppavlov) (0.8)\n",
      "Requirement already satisfied: rusenttokenize==0.0.5 in ./venv/lib/python3.6/site-packages (from deeppavlov) (0.0.5)\n",
      "Requirement already satisfied: pyopenssl==19.1.0 in ./venv/lib/python3.6/site-packages (from deeppavlov) (19.1.0)\n",
      "Requirement already satisfied: aio-pika==6.4.1 in ./venv/lib/python3.6/site-packages (from deeppavlov) (6.4.1)\n",
      "Requirement already satisfied: ruamel.yaml==0.15.100 in ./venv/lib/python3.6/site-packages (from deeppavlov) (0.15.100)\n",
      "Requirement already satisfied: sacremoses==0.0.35 in ./venv/lib/python3.6/site-packages (from deeppavlov) (0.0.35)\n",
      "Requirement already satisfied: Cython==0.29.14 in ./venv/lib/python3.6/site-packages (from deeppavlov) (0.29.14)\n",
      "Requirement already satisfied: uvicorn==0.11.7 in ./venv/lib/python3.6/site-packages (from deeppavlov) (0.11.7)\n",
      "Requirement already satisfied: requests==2.22.0 in ./venv/lib/python3.6/site-packages (from deeppavlov) (2.22.0)\n",
      "Requirement already satisfied: fastapi==0.47.1 in ./venv/lib/python3.6/site-packages (from deeppavlov) (0.47.1)\n",
      "Requirement already satisfied: tqdm==4.41.1 in ./venv/lib/python3.6/site-packages (from deeppavlov) (4.41.1)\n",
      "Requirement already satisfied: click==7.1.2 in ./venv/lib/python3.6/site-packages (from deeppavlov) (7.1.2)\n",
      "Requirement already satisfied: overrides==2.7.0 in ./venv/lib/python3.6/site-packages (from deeppavlov) (2.7.0)\n",
      "Requirement already satisfied: pytelegrambotapi==3.6.7 in ./venv/lib/python3.6/site-packages (from deeppavlov) (3.6.7)\n",
      "Requirement already satisfied: pydantic==1.3 in ./venv/lib/python3.6/site-packages (from deeppavlov) (1.3)\n",
      "Requirement already satisfied: future in ./venv/lib/python3.6/site-packages (from torch) (0.18.2)\n",
      "Requirement already satisfied: certifi>=2020.06.20 in ./venv/lib/python3.6/site-packages (from matplotlib) (2020.6.20)\n",
      "Requirement already satisfied: pillow>=6.2.0 in ./venv/lib/python3.6/site-packages (from matplotlib) (7.2.0)\n",
      "Requirement already satisfied: pyparsing!=2.0.4,!=2.1.2,!=2.1.6,>=2.0.3 in ./venv/lib/python3.6/site-packages (from matplotlib) (2.4.7)\n",
      "Requirement already satisfied: kiwisolver>=1.0.1 in ./venv/lib/python3.6/site-packages (from matplotlib) (1.2.0)\n",
      "Requirement already satisfied: cycler>=0.10 in ./venv/lib/python3.6/site-packages (from matplotlib) (0.10.0)\n",
      "Requirement already satisfied: six>=1.5 in ./venv/lib/python3.6/site-packages (from python-dateutil>=2.7.3->pandas) (1.15.0)\n",
      "Requirement already satisfied: MarkupSafe>=0.23 in ./venv/lib/python3.6/site-packages (from Jinja2->kmapper) (1.1.1)\n",
      "Requirement already satisfied: dawg-python>=0.7 in ./venv/lib/python3.6/site-packages (from pymorphy2==0.8->deeppavlov) (0.7.2)\n",
      "Requirement already satisfied: pymorphy2-dicts<3.0,>=2.4 in ./venv/lib/python3.6/site-packages (from pymorphy2==0.8->deeppavlov) (2.4.393442.3710985)\n",
      "Requirement already satisfied: docopt>=0.6 in ./venv/lib/python3.6/site-packages (from pymorphy2==0.8->deeppavlov) (0.6.2)\n",
      "Requirement already satisfied: cryptography>=2.8 in ./venv/lib/python3.6/site-packages (from pyopenssl==19.1.0->deeppavlov) (3.1.1)\n",
      "Requirement already satisfied: aiormq<4,>=3.2.0 in ./venv/lib/python3.6/site-packages (from aio-pika==6.4.1->deeppavlov) (3.2.3)\n",
      "Requirement already satisfied: yarl in ./venv/lib/python3.6/site-packages (from aio-pika==6.4.1->deeppavlov) (1.6.0)\n",
      "Requirement already satisfied: httptools==0.1.*; sys_platform != \"win32\" and sys_platform != \"cygwin\" and platform_python_implementation != \"PyPy\" in ./venv/lib/python3.6/site-packages (from uvicorn==0.11.7->deeppavlov) (0.1.1)\n",
      "Requirement already satisfied: uvloop>=0.14.0; sys_platform != \"win32\" and sys_platform != \"cygwin\" and platform_python_implementation != \"PyPy\" in ./venv/lib/python3.6/site-packages (from uvicorn==0.11.7->deeppavlov) (0.14.0)\n",
      "Requirement already satisfied: h11<0.10,>=0.8 in ./venv/lib/python3.6/site-packages (from uvicorn==0.11.7->deeppavlov) (0.9.0)\n",
      "Requirement already satisfied: websockets==8.* in ./venv/lib/python3.6/site-packages (from uvicorn==0.11.7->deeppavlov) (8.1)\n",
      "Requirement already satisfied: chardet<3.1.0,>=3.0.2 in ./venv/lib/python3.6/site-packages (from requests==2.22.0->deeppavlov) (3.0.4)\n",
      "Requirement already satisfied: urllib3!=1.25.0,!=1.25.1,<1.26,>=1.21.1 in ./venv/lib/python3.6/site-packages (from requests==2.22.0->deeppavlov) (1.25.10)\n",
      "Requirement already satisfied: idna<2.9,>=2.5 in ./venv/lib/python3.6/site-packages (from requests==2.22.0->deeppavlov) (2.8)\n",
      "Requirement already satisfied: starlette<=0.12.9,>=0.12.9 in ./venv/lib/python3.6/site-packages (from fastapi==0.47.1->deeppavlov) (0.12.9)\n",
      "Requirement already satisfied: dataclasses>=0.6; python_version < \"3.7\" in ./venv/lib/python3.6/site-packages (from pydantic==1.3->deeppavlov) (0.7)\n",
      "Requirement already satisfied: cffi!=1.11.3,>=1.8 in ./venv/lib/python3.6/site-packages (from cryptography>=2.8->pyopenssl==19.1.0->deeppavlov) (1.14.3)\n",
      "Requirement already satisfied: pamqp==2.3.0 in ./venv/lib/python3.6/site-packages (from aiormq<4,>=3.2.0->aio-pika==6.4.1->deeppavlov) (2.3.0)\n",
      "Requirement already satisfied: typing-extensions>=3.7.4; python_version < \"3.8\" in ./venv/lib/python3.6/site-packages (from yarl->aio-pika==6.4.1->deeppavlov) (3.7.4.3)\n",
      "Requirement already satisfied: multidict>=4.0 in ./venv/lib/python3.6/site-packages (from yarl->aio-pika==6.4.1->deeppavlov) (4.7.6)\n",
      "Requirement already satisfied: pycparser in ./venv/lib/python3.6/site-packages (from cffi!=1.11.3,>=1.8->cryptography>=2.8->pyopenssl==19.1.0->deeppavlov) (2.20)\n",
      "Requirement already satisfied: transformers in ./venv/lib/python3.6/site-packages (3.3.1)\n",
      "Requirement already satisfied: sacremoses in ./venv/lib/python3.6/site-packages (from transformers) (0.0.35)\n",
      "Requirement already satisfied: packaging in ./venv/lib/python3.6/site-packages (from transformers) (20.4)\n",
      "Requirement already satisfied: regex!=2019.12.17 in ./venv/lib/python3.6/site-packages (from transformers) (2020.10.11)\n",
      "Requirement already satisfied: requests in ./venv/lib/python3.6/site-packages (from transformers) (2.22.0)\n",
      "Requirement already satisfied: sentencepiece!=0.1.92 in ./venv/lib/python3.6/site-packages (from transformers) (0.1.91)\n",
      "Requirement already satisfied: tokenizers==0.8.1.rc2 in ./venv/lib/python3.6/site-packages (from transformers) (0.8.1rc2)\n",
      "Requirement already satisfied: numpy in ./venv/lib/python3.6/site-packages (from transformers) (1.19.2)\n",
      "Requirement already satisfied: tqdm>=4.27 in ./venv/lib/python3.6/site-packages (from transformers) (4.41.1)\n",
      "Requirement already satisfied: filelock in ./venv/lib/python3.6/site-packages (from transformers) (3.0.12)\n",
      "Requirement already satisfied: dataclasses; python_version < \"3.7\" in ./venv/lib/python3.6/site-packages (from transformers) (0.7)\n"
     ]
    },
    {
     "name": "stdout",
     "output_type": "stream",
     "text": [
      "Requirement already satisfied: joblib in ./venv/lib/python3.6/site-packages (from sacremoses->transformers) (0.17.0)\n",
      "Requirement already satisfied: click in ./venv/lib/python3.6/site-packages (from sacremoses->transformers) (7.1.2)\n",
      "Requirement already satisfied: six in ./venv/lib/python3.6/site-packages (from sacremoses->transformers) (1.15.0)\n",
      "Requirement already satisfied: pyparsing>=2.0.2 in ./venv/lib/python3.6/site-packages (from packaging->transformers) (2.4.7)\n",
      "Requirement already satisfied: chardet<3.1.0,>=3.0.2 in ./venv/lib/python3.6/site-packages (from requests->transformers) (3.0.4)\n",
      "Requirement already satisfied: idna<2.9,>=2.5 in ./venv/lib/python3.6/site-packages (from requests->transformers) (2.8)\n",
      "Requirement already satisfied: urllib3!=1.25.0,!=1.25.1,<1.26,>=1.21.1 in ./venv/lib/python3.6/site-packages (from requests->transformers) (1.25.10)\n",
      "Requirement already satisfied: certifi>=2017.4.17 in ./venv/lib/python3.6/site-packages (from requests->transformers) (2020.6.20)\n",
      "Requirement already satisfied: pytorch-transformers in ./venv/lib/python3.6/site-packages (1.2.0)\n",
      "Requirement already satisfied: numpy in ./venv/lib/python3.6/site-packages (from pytorch-transformers) (1.19.2)\n",
      "Requirement already satisfied: tqdm in ./venv/lib/python3.6/site-packages (from pytorch-transformers) (4.41.1)\n",
      "Requirement already satisfied: requests in ./venv/lib/python3.6/site-packages (from pytorch-transformers) (2.22.0)\n",
      "Requirement already satisfied: sentencepiece in ./venv/lib/python3.6/site-packages (from pytorch-transformers) (0.1.91)\n",
      "Requirement already satisfied: boto3 in ./venv/lib/python3.6/site-packages (from pytorch-transformers) (1.15.16)\n",
      "Requirement already satisfied: sacremoses in ./venv/lib/python3.6/site-packages (from pytorch-transformers) (0.0.35)\n",
      "Requirement already satisfied: torch>=1.0.0 in ./venv/lib/python3.6/site-packages (from pytorch-transformers) (1.6.0)\n",
      "Requirement already satisfied: regex in ./venv/lib/python3.6/site-packages (from pytorch-transformers) (2020.10.11)\n",
      "Requirement already satisfied: chardet<3.1.0,>=3.0.2 in ./venv/lib/python3.6/site-packages (from requests->pytorch-transformers) (3.0.4)\n",
      "Requirement already satisfied: urllib3!=1.25.0,!=1.25.1,<1.26,>=1.21.1 in ./venv/lib/python3.6/site-packages (from requests->pytorch-transformers) (1.25.10)\n",
      "Requirement already satisfied: certifi>=2017.4.17 in ./venv/lib/python3.6/site-packages (from requests->pytorch-transformers) (2020.6.20)\n",
      "Requirement already satisfied: idna<2.9,>=2.5 in ./venv/lib/python3.6/site-packages (from requests->pytorch-transformers) (2.8)\n",
      "Requirement already satisfied: s3transfer<0.4.0,>=0.3.0 in ./venv/lib/python3.6/site-packages (from boto3->pytorch-transformers) (0.3.3)\n",
      "Requirement already satisfied: botocore<1.19.0,>=1.18.16 in ./venv/lib/python3.6/site-packages (from boto3->pytorch-transformers) (1.18.16)\n",
      "Requirement already satisfied: jmespath<1.0.0,>=0.7.1 in ./venv/lib/python3.6/site-packages (from boto3->pytorch-transformers) (0.10.0)\n",
      "Requirement already satisfied: click in ./venv/lib/python3.6/site-packages (from sacremoses->pytorch-transformers) (7.1.2)\n",
      "Requirement already satisfied: six in ./venv/lib/python3.6/site-packages (from sacremoses->pytorch-transformers) (1.15.0)\n",
      "Requirement already satisfied: joblib in ./venv/lib/python3.6/site-packages (from sacremoses->pytorch-transformers) (0.17.0)\n",
      "Requirement already satisfied: future in ./venv/lib/python3.6/site-packages (from torch>=1.0.0->pytorch-transformers) (0.18.2)\n",
      "Requirement already satisfied: python-dateutil<3.0.0,>=2.1 in ./venv/lib/python3.6/site-packages (from botocore<1.19.0,>=1.18.16->boto3->pytorch-transformers) (2.8.1)\n",
      "Requirement already satisfied: dionysus in ./venv/lib/python3.6/site-packages (2.0.7)\n",
      "Requirement already satisfied: scikit-tda in ./venv/lib/python3.6/site-packages (0.0.3)\n",
      "Requirement already satisfied: scikit-learn in ./venv/lib/python3.6/site-packages (from scikit-tda) (0.23.2)\n",
      "Requirement already satisfied: pillow in ./venv/lib/python3.6/site-packages (from scikit-tda) (7.2.0)\n",
      "Requirement already satisfied: Cython in ./venv/lib/python3.6/site-packages (from scikit-tda) (0.29.14)\n",
      "Requirement already satisfied: numba in ./venv/lib/python3.6/site-packages (from scikit-tda) (0.51.2)\n",
      "Requirement already satisfied: scipy in ./venv/lib/python3.6/site-packages (from scikit-tda) (1.5.2)\n",
      "Requirement already satisfied: ripser in ./venv/lib/python3.6/site-packages (from scikit-tda) (0.5.4)\n",
      "Requirement already satisfied: kmapper in ./venv/lib/python3.6/site-packages (from scikit-tda) (1.4.1)\n",
      "Requirement already satisfied: tadasets in ./venv/lib/python3.6/site-packages (from scikit-tda) (0.0.4)\n",
      "Requirement already satisfied: matplotlib in ./venv/lib/python3.6/site-packages (from scikit-tda) (3.3.2)\n",
      "Requirement already satisfied: umap-learn in ./venv/lib/python3.6/site-packages (from scikit-tda) (0.4.6)\n",
      "Requirement already satisfied: numpy in ./venv/lib/python3.6/site-packages (from scikit-tda) (1.19.2)\n",
      "Requirement already satisfied: persim in ./venv/lib/python3.6/site-packages (from scikit-tda) (0.1.3)\n",
      "Requirement already satisfied: threadpoolctl>=2.0.0 in ./venv/lib/python3.6/site-packages (from scikit-learn->scikit-tda) (2.1.0)\n",
      "Requirement already satisfied: joblib>=0.11 in ./venv/lib/python3.6/site-packages (from scikit-learn->scikit-tda) (0.17.0)\n",
      "Requirement already satisfied: setuptools in ./venv/lib/python3.6/site-packages (from numba->scikit-tda) (50.3.0)\n",
      "Requirement already satisfied: llvmlite<0.35,>=0.34.0.dev0 in ./venv/lib/python3.6/site-packages (from numba->scikit-tda) (0.34.0)\n",
      "Requirement already satisfied: Jinja2 in ./venv/lib/python3.6/site-packages (from kmapper->scikit-tda) (2.11.2)\n",
      "Requirement already satisfied: certifi>=2020.06.20 in ./venv/lib/python3.6/site-packages (from matplotlib->scikit-tda) (2020.6.20)\n",
      "Requirement already satisfied: kiwisolver>=1.0.1 in ./venv/lib/python3.6/site-packages (from matplotlib->scikit-tda) (1.2.0)\n",
      "Requirement already satisfied: python-dateutil>=2.1 in ./venv/lib/python3.6/site-packages (from matplotlib->scikit-tda) (2.8.1)\n",
      "Requirement already satisfied: pyparsing!=2.0.4,!=2.1.2,!=2.1.6,>=2.0.3 in ./venv/lib/python3.6/site-packages (from matplotlib->scikit-tda) (2.4.7)\n",
      "Requirement already satisfied: cycler>=0.10 in ./venv/lib/python3.6/site-packages (from matplotlib->scikit-tda) (0.10.0)\n",
      "Requirement already satisfied: hopcroftkarp in ./venv/lib/python3.6/site-packages (from persim->scikit-tda) (1.2.5)\n",
      "Requirement already satisfied: MarkupSafe>=0.23 in ./venv/lib/python3.6/site-packages (from Jinja2->kmapper->scikit-tda) (1.1.1)\n",
      "Requirement already satisfied: six>=1.5 in ./venv/lib/python3.6/site-packages (from python-dateutil>=2.1->matplotlib->scikit-tda) (1.15.0)\n"
     ]
    }
   ],
   "source": [
    "!pip install pandas kmapper numpy scikit-learn deeppavlov torch matplotlib\n",
    "!pip install transformers \n",
    "!pip install pytorch-transformers\n",
    "!pip install dionysus\n",
    "!pip install scikit-tda"
   ]
  },
  {
   "cell_type": "code",
   "execution_count": 2,
   "metadata": {},
   "outputs": [],
   "source": [
    "import pandas as pd\n",
    "import kmapper as km\n",
    "import persim\n",
    "import re\n",
    "import numpy as np\n",
    "import sklearn.manifold as manifold\n",
    "import sklearn.cluster as clusters\n",
    "from deeppavlov.core.common.file import read_json\n",
    "from deeppavlov import build_model, configs\n",
    "from tqdm import tqdm"
   ]
  },
  {
   "cell_type": "markdown",
   "metadata": {},
   "source": [
    "We build our TDA research on Russian BERT model from DeepPavlov repo. Download model from http://files.deeppavlov.ai/deeppavlov_data/bert/rubert_cased_L-12_H-768_A-12_pt.tar.gz and unzip into './bert_torch/' folder"
   ]
  },
  {
   "cell_type": "code",
   "execution_count": 3,
   "metadata": {},
   "outputs": [
    {
     "name": "stderr",
     "output_type": "stream",
     "text": [
      "[nltk_data] Downloading package punkt to /home/malchul/nltk_data...\n",
      "[nltk_data]   Package punkt is already up-to-date!\n",
      "[nltk_data] Downloading package stopwords to\n",
      "[nltk_data]     /home/malchul/nltk_data...\n",
      "[nltk_data]   Package stopwords is already up-to-date!\n",
      "[nltk_data] Downloading package perluniprops to\n",
      "[nltk_data]     /home/malchul/nltk_data...\n",
      "[nltk_data]   Package perluniprops is already up-to-date!\n",
      "[nltk_data] Downloading package nonbreaking_prefixes to\n",
      "[nltk_data]     /home/malchul/nltk_data...\n",
      "[nltk_data]   Package nonbreaking_prefixes is already up-to-date!\n"
     ]
    }
   ],
   "source": [
    "bert_config = read_json(configs.embedder.bert_embedder)\n",
    "bert_config['metadata']['variables']['BERT_PATH'] = './bert_torch/'\n",
    "m = build_model(bert_config)"
   ]
  },
  {
   "cell_type": "markdown",
   "metadata": {},
   "source": [
    "Test embeddings BERT on text"
   ]
  },
  {
   "cell_type": "code",
   "execution_count": 4,
   "metadata": {},
   "outputs": [
    {
     "name": "stdout",
     "output_type": "stream",
     "text": [
      "[array([[-0.17643537, -0.50428253,  0.9171135 , ...,  0.27799606,\n",
      "        -0.23413935,  0.39191654],\n",
      "       [-0.29526496, -0.22406873,  0.01503195, ...,  1.3082079 ,\n",
      "        -0.01824506,  0.05571674],\n",
      "       [-0.4887036 , -0.8821178 , -0.6517777 , ...,  0.4404621 ,\n",
      "        -0.29753682,  0.02373977],\n",
      "       [ 0.03469221, -1.0020154 ,  0.17803702, ...,  1.4391162 ,\n",
      "        -0.27427924, -0.31130612]], dtype=float32), array([[-0.01635873, -0.29974014,  0.42747173, ...,  0.90875703,\n",
      "         0.85758984, -0.03401814],\n",
      "       [-0.3934805 , -0.3614329 ,  0.6456343 , ...,  0.77590495,\n",
      "         0.23402363, -0.1606261 ],\n",
      "       [-0.36421874, -0.03590979, -0.03548655, ..., -0.17517139,\n",
      "        -0.11703118, -0.21716051],\n",
      "       [ 0.00930831,  0.10694736, -0.7353675 , ...,  1.1392337 ,\n",
      "         0.27017418,  0.7586588 ],\n",
      "       [ 0.0806808 ,  0.5411068 ,  0.03924718, ...,  0.66805613,\n",
      "         0.24955022,  0.20233591],\n",
      "       [ 0.07684167,  0.4153759 ,  0.31532082, ...,  0.6612674 ,\n",
      "         0.05507208, -0.06030168]], dtype=float32)]\n"
     ]
    }
   ],
   "source": [
    "texts = ['Give me the embeddings', 'And mine too, please!']\n",
    "tokens, token_embs, subtokens, subtoken_embs, sent_max_embs, sent_mean_embs, bert_pooler_outputs = m(texts)\n",
    "print(token_embs)"
   ]
  },
  {
   "cell_type": "markdown",
   "metadata": {},
   "source": [
    "Read the news data. We get dataset from kaggle: https://www.kaggle.com/vfomenko/russian-news-2020"
   ]
  },
  {
   "cell_type": "code",
   "execution_count": 5,
   "metadata": {
    "scrolled": true
   },
   "outputs": [
    {
     "data": {
      "text/html": [
       "<div>\n",
       "<style scoped>\n",
       "    .dataframe tbody tr th:only-of-type {\n",
       "        vertical-align: middle;\n",
       "    }\n",
       "\n",
       "    .dataframe tbody tr th {\n",
       "        vertical-align: top;\n",
       "    }\n",
       "\n",
       "    .dataframe thead th {\n",
       "        text-align: right;\n",
       "    }\n",
       "</style>\n",
       "<table border=\"1\" class=\"dataframe\">\n",
       "  <thead>\n",
       "    <tr style=\"text-align: right;\">\n",
       "      <th></th>\n",
       "      <th>title</th>\n",
       "      <th>text</th>\n",
       "    </tr>\n",
       "  </thead>\n",
       "  <tbody>\n",
       "    <tr>\n",
       "      <th>0</th>\n",
       "      <td>синий богатырь</td>\n",
       "      <td>в 1930-е годы советский союз охватила лихорадк...</td>\n",
       "    </tr>\n",
       "    <tr>\n",
       "      <th>1</th>\n",
       "      <td>загитова согласилась вести  ледниковый период</td>\n",
       "      <td>олимпийская чемпионка по фигурному катанию  ал...</td>\n",
       "    </tr>\n",
       "    <tr>\n",
       "      <th>2</th>\n",
       "      <td>объяснена опасность однообразного питания</td>\n",
       "      <td>российский врач-диетолог римма мойсенко объясн...</td>\n",
       "    </tr>\n",
       "    <tr>\n",
       "      <th>3</th>\n",
       "      <td>предохраняться? а зачем?</td>\n",
       "      <td>в 2019 году телеканал  ю  запустил адаптацию з...</td>\n",
       "    </tr>\n",
       "    <tr>\n",
       "      <th>4</th>\n",
       "      <td>ефремов систематически употреблял наркотики</td>\n",
       "      <td>актер  михаил ефремов  систематически употребл...</td>\n",
       "    </tr>\n",
       "  </tbody>\n",
       "</table>\n",
       "</div>"
      ],
      "text/plain": [
       "                                            title  \\\n",
       "0                                  синий богатырь   \n",
       "1  загитова согласилась вести  ледниковый период    \n",
       "2       объяснена опасность однообразного питания   \n",
       "3                       предохраняться? а зачем?    \n",
       "4     ефремов систематически употреблял наркотики   \n",
       "\n",
       "                                                text  \n",
       "0  в 1930-е годы советский союз охватила лихорадк...  \n",
       "1  олимпийская чемпионка по фигурному катанию  ал...  \n",
       "2  российский врач-диетолог римма мойсенко объясн...  \n",
       "3  в 2019 году телеканал  ю  запустил адаптацию з...  \n",
       "4  актер  михаил ефремов  систематически употребл...  "
      ]
     },
     "execution_count": 5,
     "metadata": {},
     "output_type": "execute_result"
    }
   ],
   "source": [
    "news_data = pd.read_csv('./news.csv')\n",
    "news_data.drop(['publication_date','rubric','subrubric','tags','source'], inplace=True, axis=1)\n",
    "news_data = news_data.dropna(axis=0)\n",
    "news_data['text'] = news_data['text'].map(lambda x: re.sub('\\@|\\$|\\*|\\[|\\]|\\(|\\)|\\\"|\\^|\\~|\\{|\\}|\\<|\\>|\\,|\\'|\\:|\\»|\\«', ' ', x).lower() )\n",
    "news_data['title'] = news_data['title'].map(lambda x: re.sub('\\@|\\$|\\*|\\[|\\]|\\(|\\)|\\\"|\\^|\\~|\\{|\\}|\\<|\\>|\\,|\\'|\\:|\\»|\\«', ' ', str(x).lower()), na_action='ignore' )\n",
    "\n",
    "\n",
    "news_data.head()"
   ]
  },
  {
   "cell_type": "markdown",
   "metadata": {},
   "source": [
    "# Visualize data"
   ]
  },
  {
   "cell_type": "markdown",
   "metadata": {},
   "source": [
    "Visualize data via KeplerMapper. We use text from each news to build embedding for each sentence. In next cell we visualize only single article by next algo:\n",
    "1. Map sentence embeddings onto 2d plane via TSNE and MinMaxScaler that data be in [0,1] square. \n",
    "2. Cover projected points by overlapping squares. \n",
    "3. For each square we clusterize data in 2 cluster by hierarchical algorithm. \n",
    "4.  If clusters has the same node, we draw line. \n",
    "\n",
    "You can look at result  [here](./keplermapper_output.html)"
   ]
  },
  {
   "cell_type": "code",
   "execution_count": 6,
   "metadata": {},
   "outputs": [
    {
     "name": "stdout",
     "output_type": "stream",
     "text": [
      "KeplerMapper(verbose=1)\n",
      "..Composing projection pipeline of length 1:\n",
      "\tProjections: TSNE()\n",
      "\tDistance matrices: False\n",
      "\tScalers: MinMaxScaler()\n",
      "..Projecting on data shaped (94, 768)\n",
      "\n",
      "..Projecting data using: \n",
      "\tTSNE(verbose=1)\n",
      "\n",
      "[t-SNE] Computing 91 nearest neighbors...\n",
      "[t-SNE] Indexed 94 samples in 0.000s...\n",
      "[t-SNE] Computed neighbors for 94 samples in 0.333s...\n",
      "[t-SNE] Computed conditional probabilities for sample 94 / 94\n",
      "[t-SNE] Mean sigma: 3.042029\n",
      "[t-SNE] KL divergence after 250 iterations with early exaggeration: 66.488182\n",
      "[t-SNE] KL divergence after 1000 iterations: 0.592688\n",
      "\n",
      "..Scaling with: MinMaxScaler()\n",
      "\n",
      "MINUMUM:  [0. 0.]\n",
      "MAXIMUM:  [1.         0.99999994]\n",
      "Mapping on data shaped (94, 768) using lens shaped (94, 2)\n",
      "\n",
      "Creating 25 hypercubes.\n",
      "\n",
      "Created 95 edges and 46 nodes in 0:00:00.435026.\n",
      "Wrote visualization to: keplermapper_output.html\n"
     ]
    }
   ],
   "source": [
    "N_COMPONENTS = 2\n",
    "N_CLUSTERS = 2\n",
    "\n",
    "text_sample = news_data['text'][0]\n",
    "# Initialize\n",
    "mapper = km.KeplerMapper(verbose=1)\n",
    "_, data, *_ = m(re.split('\\. |\\! |\\? ', text_sample))\n",
    "data = np.stack([sentence.mean(0) for sentence in data])\n",
    "\n",
    "# Fit to and transform the data\n",
    "projected_data = mapper.fit_transform(data, projection=manifold.TSNE(n_components=N_COMPONENTS)) # X-Y axis\n",
    "\n",
    "print('MINUMUM: ', projected_data.min(0))\n",
    "print('MAXIMUM: ', projected_data.max(0))\n",
    "# Create dictionary called 'graph' with nodes, edges and meta-information\n",
    "graph = mapper.map(projected_data, data, cover=km.Cover(n_cubes=5, perc_overlap=0.33), clusterer = clusters.AgglomerativeClustering(n_clusters=N_CLUSTERS, linkage='complete', affinity='cosine'))\n",
    "\n",
    "# Visualize it\n",
    "mapper.visualize(graph, path_html=\"keplermapper_output.html\",\n",
    "                 title=\"TSNE for 1 article\")\n",
    "pass"
   ]
  },
  {
   "cell_type": "markdown",
   "metadata": {},
   "source": [
    "The same algorithm but for 2 articles.\n",
    "\n",
    "Visualization result can be found [here](./full_output.html)"
   ]
  },
  {
   "cell_type": "code",
   "execution_count": 7,
   "metadata": {},
   "outputs": [
    {
     "name": "stdout",
     "output_type": "stream",
     "text": [
      "KeplerMapper(verbose=1)\n",
      "..Composing projection pipeline of length 1:\n",
      "\tProjections: TSNE()\n",
      "\tDistance matrices: False\n",
      "\tScalers: MinMaxScaler()\n",
      "..Projecting on data shaped (270, 768)\n",
      "\n",
      "..Projecting data using: \n",
      "\tTSNE(verbose=1)\n",
      "\n",
      "[t-SNE] Computing 91 nearest neighbors...\n",
      "[t-SNE] Indexed 270 samples in 0.043s...\n",
      "[t-SNE] Computed neighbors for 270 samples in 0.143s...\n",
      "[t-SNE] Computed conditional probabilities for sample 270 / 270\n",
      "[t-SNE] Mean sigma: 3.044739\n",
      "[t-SNE] KL divergence after 250 iterations with early exaggeration: 84.449623\n",
      "[t-SNE] KL divergence after 1000 iterations: 0.938218\n",
      "\n",
      "..Scaling with: MinMaxScaler()\n",
      "\n",
      "MINUMUM:  [0. 0.]\n",
      "MAXIMUM:  [1. 1.]\n",
      "Mapping on data shaped (270, 768) using lens shaped (270, 2)\n",
      "\n",
      "Creating 625 hypercubes.\n",
      "\n",
      "Created 1030 edges and 532 nodes in 0:00:00.437952.\n",
      "Wrote visualization to: full_output.html\n"
     ]
    }
   ],
   "source": [
    "def func():\n",
    "    N_COMPONENTS = 2\n",
    "    N_CLUSTERS = 2\n",
    "    full_data = []\n",
    "    full_colors = []\n",
    "    for i, row in enumerate(news_data['text'][[0,3]]):\n",
    "        _, data, *_ = m(re.split('\\. |\\! |\\? ', row))\n",
    "        data = [sentence.mean(0) for sentence in data]\n",
    "        full_data.extend(data)\n",
    "        full_colors.extend([i for _ in data])\n",
    "        \n",
    "    full_data = np.stack(full_data) \n",
    "    mapper = km.KeplerMapper(verbose=1)\n",
    "\n",
    "    projected_data = mapper.fit_transform(full_data, projection=manifold.TSNE(n_components=N_COMPONENTS)) # X-Y axis\n",
    "\n",
    "    print('MINUMUM: ', projected_data.min(0))\n",
    "    print('MAXIMUM: ', projected_data.max(0))\n",
    "    # Create dictionary called 'graph' with nodes, edges and meta-information\n",
    "    graph = mapper.map(projected_data, full_data, cover=km.Cover(n_cubes=25, perc_overlap=0.5), clusterer = clusters.AgglomerativeClustering(n_clusters=N_CLUSTERS, linkage='complete', affinity='cosine'))\n",
    "\n",
    "    # Visualize it\n",
    "    mapper.visualize(graph, path_html=\"full_output.html\",title=\"TSNE for 1000 article\", color_function=np.array(full_colors))\n",
    "func()    "
   ]
  },
  {
   "cell_type": "markdown",
   "metadata": {},
   "source": [
    "# Create barcodes"
   ]
  },
  {
   "cell_type": "markdown",
   "metadata": {},
   "source": [
    "We show some barcodes for loops"
   ]
  },
  {
   "cell_type": "code",
   "execution_count": 8,
   "metadata": {},
   "outputs": [],
   "source": [
    "import dionysus\n",
    "def bar_emb(emb, r):\n",
    "    N, d = emb.shape\n",
    "    f = dionysus.fill_rips(emb,d,r)\n",
    "    print(f)\n",
    "    m = dionysus.homology_persistence(f)\n",
    "    dmgs = dionysus.init_diagrams(m,f)\n",
    "    print(dmgs)\n",
    "    dionysus.plot.plot_bars(dmgs[1], show=True)\n",
    "    return dmgs"
   ]
  },
  {
   "cell_type": "code",
   "execution_count": 9,
   "metadata": {},
   "outputs": [
    {
     "name": "stdout",
     "output_type": "stream",
     "text": [
      "14461\n",
      "2.6401403 -4.2170568\n",
      "Filtration with 198207 simplices\n",
      "[Diagram with 29 points, Diagram with 7 points, Diagram with 0 points, Diagram with 0 points, Diagram with 0 points, Diagram with 0 points, Diagram with 0 points, Diagram with 0 points, Diagram with 0 points, Diagram with 0 points, Diagram with 0 points, Diagram with 0 points, Diagram with 0 points, Diagram with 0 points, Diagram with 0 points]\n"
     ]
    },
    {
     "data": {
      "image/png": "[encoded data removed]",
      "text/plain": [
       "<Figure size 432x288 with 1 Axes>"
      ]
     },
     "metadata": {
      "needs_background": "light"
     },
     "output_type": "display_data"
    }
   ],
   "source": [
    "raduis = 20\n",
    "\n",
    "question = ''\n",
    "full_data = []\n",
    "article_ids = []\n",
    "for i, row in enumerate(news_data['text'][:100]):\n",
    "    if i > 0:\n",
    "            break\n",
    "    #text_sample = news_data['text'][0]\n",
    "    print(len(row))\n",
    "    _, data, *_ = m(re.split('\\. |\\! |\\? ', row))\n",
    "    for sen_id, sentence in enumerate(data):\n",
    "        if sen_id > 0:\n",
    "            break\n",
    "        print(sentence.max(), sentence.min())\n",
    "        bar_emb(sentence, raduis)\n",
    "    full_data.extend(data)\n",
    "    \n",
    "    article_ids.extend([i for _ in data])\n",
    "    \n",
    "    \n"
   ]
  },
  {
   "cell_type": "code",
   "execution_count": 10,
   "metadata": {},
   "outputs": [
    {
     "name": "stdout",
     "output_type": "stream",
     "text": [
      "14461\n",
      "2.7350333 -3.4434593 20\n",
      "Filtration with 327679 simplices\n",
      "[Diagram with 20 points, Diagram with 4 points, Diagram with 0 points, Diagram with 0 points, Diagram with 0 points, Diagram with 0 points, Diagram with 0 points, Diagram with 0 points, Diagram with 0 points, Diagram with 0 points, Diagram with 0 points, Diagram with 0 points, Diagram with 0 points, Diagram with 0 points, Diagram with 0 points, Diagram with 0 points, Diagram with 0 points, Diagram with 0 points]\n"
     ]
    },
    {
     "data": {
      "image/png": "[encoded data removed]",
      "text/plain": [
       "<Figure size 432x288 with 1 Axes>"
      ]
     },
     "metadata": {
      "needs_background": "light"
     },
     "output_type": "display_data"
    }
   ],
   "source": [
    "raduis = 20\n",
    "\n",
    "question = ''\n",
    "full_data = []\n",
    "article_ids = []\n",
    "for i, row in enumerate(news_data['text'][:100]):\n",
    "    if i > 0:\n",
    "            break\n",
    "    #text_sample = news_data['text'][0]\n",
    "    print(len(row))\n",
    "    _, data, *_ = m(re.split('\\. |\\! |\\? ', row))\n",
    "    for sen_id, sentence in enumerate(data):\n",
    "        if sen_id != 2:\n",
    "            continue\n",
    "        print(sentence.max(), sentence.min(), len(sentence))\n",
    "        bar_emb(sentence, raduis)\n",
    "    full_data.extend(data)\n",
    "    \n",
    "    article_ids.extend([i for _ in data])\n",
    "    \n",
    "    \n"
   ]
  },
  {
   "cell_type": "markdown",
   "metadata": {},
   "source": [
    "# Use TDA for text similarity"
   ]
  },
  {
   "cell_type": "markdown",
   "metadata": {},
   "source": [
    "We try to use TDA in text similarity from this paper https://arxiv.org/abs/2003.13138"
   ]
  },
  {
   "cell_type": "code",
   "execution_count": 11,
   "metadata": {},
   "outputs": [],
   "source": [
    "\n",
    "from ripser import ripser\n",
    "from persim import plot_diagrams\n",
    "import matplotlib.pyplot as plt\n",
    "import numpy as np\n",
    "from sklearn import datasets"
   ]
  },
  {
   "cell_type": "code",
   "execution_count": 12,
   "metadata": {},
   "outputs": [],
   "source": [
    "import scipy.signal as signal\n",
    "from scipy.spatial import distance\n",
    "\n",
    "\n",
    "\n",
    "\n",
    "def smooth_sequence(embs):\n",
    "    KERNEL = np.array([1/8,1/4,1/2,1/2,1/4,1/8])\n",
    "    T,d = embs.shape\n",
    "    local_kernel = np.tile(KERNEL, (1,d))\n",
    "    embs[0] += KERNEL[0] * embs[0]\n",
    "    embs[-1] += KERNEL[-1] * embs[-1]\n",
    "    smoothed_embs = signal.convolve2d(embs, local_kernel, mode='same')\n",
    "    return smoothed_embs\n",
    "\n",
    "# def distance_matrix(embs):\n",
    "#     T,d = embs.shape\n",
    "#     matrix = np.zeros([T,T], dtype=np.float32)\n",
    "#     for i in range(T):\n",
    "#         emb_i = embs[i]\n",
    "#         for j in range(T):\n",
    "#             emb_j = embs[j] \n",
    "#             matrix[i,j] = 1/T * np.linalg.norm(emb_i/ np.sqrt(d)) * np.linalg.norm(emb_j/ np.sqrt(d)) * (distance.cosine(emb_i / np.sqrt(d), emb_j / np.sqrt(d)))\n",
    "#     return matrix\n",
    "\n",
    "def distance_matrix(embs):\n",
    "    embs = embs.T\n",
    "    d, T = embs.shape\n",
    "    matrix = np.zeros([d,d], dtype=np.float32)\n",
    "    for i in range(d):\n",
    "        emb_i = embs[i]\n",
    "        for j in range(d):\n",
    "            emb_j = embs[j] \n",
    "            matrix[i,j] = 1/T * np.linalg.norm(emb_i) * np.linalg.norm(emb_j) * (distance.cosine(emb_i / T, emb_j / T))\n",
    "    return matrix\n",
    "\n",
    "\n",
    "def get_dmgs(embs):\n",
    "    #smoothed = smooth_sequence(embs)\n",
    "    dgms = ripser(embs.T, maxdim=1, distance_matrix=False)['dgms']\n",
    "    return dgms\n",
    "\n",
    "\n",
    "# def get_dmgs(embs):\n",
    "#     smoothed = smooth_sequence(embs)\n",
    "#     matrix = distance_matrix(embs)\n",
    "#     dgms = ripser(matrix, maxdim=1, distance_matrix=True)['dgms']\n",
    "#     return dgms\n",
    "\n",
    "\n",
    "\n"
   ]
  },
  {
   "cell_type": "markdown",
   "metadata": {},
   "source": [
    "Example usage"
   ]
  },
  {
   "cell_type": "code",
   "execution_count": 13,
   "metadata": {},
   "outputs": [
    {
     "name": "stdout",
     "output_type": "stream",
     "text": [
      "(20, 100)\n",
      "[[-6.33011961 -3.0551211  -1.13119291 ... -3.0551211  -1.13119291\n",
      "  -1.49492952]\n",
      " [ 0.26244794 -0.32202877  0.44417704 ... -0.32202877  0.44417704\n",
      "   2.44722874]\n",
      " [-1.53925072 -2.92686125 -2.44616195 ... -2.92686125 -2.44616195\n",
      "  -1.39889638]\n",
      " ...\n",
      " [10.5215699   8.6826784   8.8866499  ...  8.6826784   8.8866499\n",
      "  10.19778762]\n",
      " [-2.92112511 -2.2428798  -2.52623441 ... -2.2428798  -2.52623441\n",
      "  -4.34577086]\n",
      " [-3.42021515 -4.82138539 -7.74727166 ... -4.82138539 -7.74727166\n",
      "  -6.27844474]]\n",
      "(100, 100)\n",
      "[array([[0.        , 3.02535844],\n",
      "       [0.        , 3.26325488],\n",
      "       [0.        , 3.58114266],\n",
      "       [0.        , 3.60089636],\n",
      "       [0.        , 3.63292098],\n",
      "       [0.        , 3.66887093],\n",
      "       [0.        , 3.71718812],\n",
      "       [0.        , 3.73787808],\n",
      "       [0.        , 3.74825263],\n",
      "       [0.        , 3.77790642],\n",
      "       [0.        , 3.78301573],\n",
      "       [0.        , 3.79398489],\n",
      "       [0.        , 3.79621625],\n",
      "       [0.        , 3.80781579],\n",
      "       [0.        , 3.82927442],\n",
      "       [0.        , 3.83795238],\n",
      "       [0.        , 3.84485316],\n",
      "       [0.        , 3.87445164],\n",
      "       [0.        , 3.88931489],\n",
      "       [0.        , 3.89636278],\n",
      "       [0.        , 3.89936924],\n",
      "       [0.        , 3.92399979],\n",
      "       [0.        , 3.94441867],\n",
      "       [0.        , 3.95856357],\n",
      "       [0.        , 4.0053668 ],\n",
      "       [0.        , 4.00810766],\n",
      "       [0.        , 4.02898359],\n",
      "       [0.        , 4.04460716],\n",
      "       [0.        , 4.05089378],\n",
      "       [0.        , 4.06418276],\n",
      "       [0.        , 4.06776094],\n",
      "       [0.        , 4.10362864],\n",
      "       [0.        , 4.14230967],\n",
      "       [0.        , 4.18095636],\n",
      "       [0.        , 4.18571377],\n",
      "       [0.        , 4.1898694 ],\n",
      "       [0.        , 4.2054038 ],\n",
      "       [0.        , 4.20986128],\n",
      "       [0.        , 4.21067476],\n",
      "       [0.        , 4.22766685],\n",
      "       [0.        , 4.24694204],\n",
      "       [0.        , 4.26351118],\n",
      "       [0.        , 4.26453876],\n",
      "       [0.        , 4.28159571],\n",
      "       [0.        , 4.29292059],\n",
      "       [0.        , 4.32359982],\n",
      "       [0.        , 4.33453703],\n",
      "       [0.        , 4.33697319],\n",
      "       [0.        , 4.34917927],\n",
      "       [0.        , 4.37422848],\n",
      "       [0.        , 4.39487839],\n",
      "       [0.        , 4.41665459],\n",
      "       [0.        , 4.42132711],\n",
      "       [0.        , 4.43410254],\n",
      "       [0.        , 4.44154978],\n",
      "       [0.        , 4.4485898 ],\n",
      "       [0.        , 4.45251131],\n",
      "       [0.        , 4.4587903 ],\n",
      "       [0.        , 4.46602869],\n",
      "       [0.        , 4.46619463],\n",
      "       [0.        , 4.46731329],\n",
      "       [0.        , 4.47467804],\n",
      "       [0.        , 4.48989105],\n",
      "       [0.        , 4.5043726 ],\n",
      "       [0.        , 4.54048872],\n",
      "       [0.        , 4.54267693],\n",
      "       [0.        , 4.54766893],\n",
      "       [0.        , 4.55424452],\n",
      "       [0.        , 4.58928967],\n",
      "       [0.        , 4.60484171],\n",
      "       [0.        , 4.60822201],\n",
      "       [0.        , 4.62213993],\n",
      "       [0.        , 4.63967943],\n",
      "       [0.        , 4.64034796],\n",
      "       [0.        , 4.65168715],\n",
      "       [0.        , 4.71173334],\n",
      "       [0.        , 4.7219944 ],\n",
      "       [0.        , 4.72499752],\n",
      "       [0.        , 4.73061371],\n",
      "       [0.        , 4.73763084],\n",
      "       [0.        , 4.73894405],\n",
      "       [0.        , 4.7668004 ],\n",
      "       [0.        , 4.81437302],\n",
      "       [0.        , 4.818542  ],\n",
      "       [0.        , 4.86542988],\n",
      "       [0.        , 4.86625767],\n",
      "       [0.        , 4.87564468],\n",
      "       [0.        , 4.88586807],\n",
      "       [0.        , 4.91629982],\n",
      "       [0.        , 4.94775438],\n",
      "       [0.        , 4.96425486],\n",
      "       [0.        , 4.96566343],\n",
      "       [0.        , 5.04318094],\n",
      "       [0.        , 5.07517719],\n",
      "       [0.        , 5.16309786],\n",
      "       [0.        , 5.17265129],\n",
      "       [0.        , 5.21301126],\n",
      "       [0.        , 5.83859301],\n",
      "       [0.        , 5.93591213],\n",
      "       [0.        ,        inf]]), array([[5.64966393, 5.65144539],\n",
      "       [5.49486923, 5.55857468],\n",
      "       [5.42511511, 5.70011091],\n",
      "       [5.41433287, 5.57615757],\n",
      "       [5.34959173, 5.43201923],\n",
      "       [5.30755854, 5.62121105],\n",
      "       [5.28178215, 5.31101656],\n",
      "       [5.24470329, 5.3879261 ],\n",
      "       [5.22756052, 5.30948925],\n",
      "       [5.19645596, 5.29380941],\n",
      "       [5.14512444, 5.16505051],\n",
      "       [5.12066126, 5.26900482],\n",
      "       [5.10818863, 5.16846848],\n",
      "       [5.10224533, 5.28689814],\n",
      "       [5.08937597, 5.37099171],\n",
      "       [5.07824707, 5.2156167 ],\n",
      "       [5.06296158, 5.13301563],\n",
      "       [5.06174088, 5.06577682],\n",
      "       [5.05307817, 5.15454483],\n",
      "       [5.03119802, 5.25406551],\n",
      "       [5.02892494, 5.64342022],\n",
      "       [5.01771927, 5.05827713],\n",
      "       [5.01535511, 5.14588356],\n",
      "       [5.00860596, 5.22230148],\n",
      "       [4.99638891, 5.19961452],\n",
      "       [4.99170685, 5.24480867],\n",
      "       [4.98451757, 5.0918293 ],\n",
      "       [4.98046875, 5.13301563],\n",
      "       [4.97314835, 5.2432332 ],\n",
      "       [4.97179794, 5.13774347],\n",
      "       [4.9522028 , 5.34062862],\n",
      "       [4.94050741, 5.05720854],\n",
      "       [4.87758732, 4.90716887],\n",
      "       [4.87629223, 5.32778311],\n",
      "       [4.87343836, 5.16780233],\n",
      "       [4.84375858, 5.00315428],\n",
      "       [4.79551792, 4.96404028],\n",
      "       [4.7936821 , 4.96254158],\n",
      "       [4.78270483, 4.79744053],\n",
      "       [4.76588964, 4.96404028],\n",
      "       [4.74022245, 4.75484657],\n",
      "       [4.72854424, 5.07285976],\n",
      "       [4.72101068, 4.86341524],\n",
      "       [4.69971752, 4.92385435],\n",
      "       [4.69915247, 4.72958469],\n",
      "       [4.68395376, 4.72844553],\n",
      "       [4.67366123, 5.04507828],\n",
      "       [4.66657543, 4.95391989],\n",
      "       [4.6588974 , 4.71086979],\n",
      "       [4.65685749, 4.80794287],\n",
      "       [4.64188576, 4.90582609],\n",
      "       [4.64016199, 4.83868599],\n",
      "       [4.62217188, 5.12885427],\n",
      "       [4.61491919, 4.64483452],\n",
      "       [4.61453199, 4.78362608],\n",
      "       [4.6073246 , 4.6270957 ],\n",
      "       [4.58480072, 4.8632865 ],\n",
      "       [4.56106234, 4.81156874],\n",
      "       [4.54868841, 4.79293776],\n",
      "       [4.54198551, 5.10744762],\n",
      "       [4.53991175, 4.55124998],\n",
      "       [4.52765465, 5.05010557],\n",
      "       [4.52633762, 4.60271788],\n",
      "       [4.52256441, 4.85579348],\n",
      "       [4.51025677, 4.72163486],\n",
      "       [4.49504757, 4.60442686],\n",
      "       [4.48397112, 4.73817062],\n",
      "       [4.47878075, 4.69132328],\n",
      "       [4.47502375, 4.95869923],\n",
      "       [4.47259569, 4.57858562],\n",
      "       [4.46492243, 4.56158257],\n",
      "       [4.46451616, 4.60661793],\n",
      "       [4.46093321, 4.73375273],\n",
      "       [4.43637276, 4.46581888],\n",
      "       [4.43401194, 5.20509291],\n",
      "       [4.42525148, 4.49880934],\n",
      "       [4.39507818, 4.8632865 ],\n",
      "       [4.38317347, 4.57858562],\n",
      "       [4.35880423, 4.78137636],\n",
      "       [4.35463047, 4.72163486],\n",
      "       [4.33989286, 4.48766756],\n",
      "       [4.3320899 , 4.42017841],\n",
      "       [4.29872036, 4.66388464],\n",
      "       [4.28860331, 4.81952238],\n",
      "       [4.2664957 , 4.57858562],\n",
      "       [4.23004723, 4.74349499],\n",
      "       [4.22907686, 4.411129  ],\n",
      "       [4.22634602, 4.60442686],\n",
      "       [4.21750641, 4.32193995],\n",
      "       [4.20481014, 4.49880934],\n",
      "       [4.1862793 , 4.61070967],\n",
      "       [4.16651344, 4.83869314],\n",
      "       [4.11532259, 4.80794287]])]\n"
     ]
    },
    {
     "data": {
      "image/png": "[encoded data removed]",
      "text/plain": [
       "<Figure size 432x288 with 1 Axes>"
      ]
     },
     "metadata": {
      "needs_background": "light"
     },
     "output_type": "display_data"
    }
   ],
   "source": [
    "x = np.random.randn(20,100)\n",
    "smoothed = smooth_sequence(x)\n",
    "print(smoothed.shape)\n",
    "print(smoothed)\n",
    "\n",
    "print(distance_matrix(smoothed).shape)\n",
    "print(get_dmgs(x))\n",
    "distance_matrix(smoothed).max()\n",
    "x = np.random.randn(20,100)\n",
    "smoothed = smooth_sequence(x)\n",
    "\n",
    "matrix = distance_matrix(smoothed)\n",
    "dgms = ripser(matrix, maxdim=1, distance_matrix=True)['dgms']\n",
    "plot_diagrams(dgms, show=True)"
   ]
  },
  {
   "cell_type": "markdown",
   "metadata": {},
   "source": [
    "# Create persistent diagrams"
   ]
  },
  {
   "cell_type": "markdown",
   "metadata": {},
   "source": [
    "We try to create persistent diagrams for 5 first articles and compare this by wasserstein distance"
   ]
  },
  {
   "cell_type": "code",
   "execution_count": 14,
   "metadata": {
    "scrolled": true
   },
   "outputs": [
    {
     "name": "stdout",
     "output_type": "stream",
     "text": [
      "14461\n"
     ]
    },
    {
     "name": "stderr",
     "output_type": "stream",
     "text": [
      "  2%|▏         | 2/94 [00:02<01:42,  1.11s/it]"
     ]
    },
    {
     "data": {
      "image/png": "[encoded data removed]",
      "text/plain": [
       "<Figure size 640x480 with 1 Axes>"
      ]
     },
     "metadata": {},
     "output_type": "display_data"
    },
    {
     "name": "stderr",
     "output_type": "stream",
     "text": [
      "100%|██████████| 94/94 [01:09<00:00,  1.35it/s]\n"
     ]
    },
    {
     "name": "stdout",
     "output_type": "stream",
     "text": [
      "1168\n"
     ]
    },
    {
     "name": "stderr",
     "output_type": "stream",
     "text": [
      " 18%|█▊        | 2/11 [00:01<00:06,  1.49it/s]"
     ]
    },
    {
     "data": {
      "image/png": "[encoded data removed]",
      "text/plain": [
       "<Figure size 640x480 with 1 Axes>"
      ]
     },
     "metadata": {},
     "output_type": "display_data"
    },
    {
     "name": "stderr",
     "output_type": "stream",
     "text": [
      "100%|██████████| 11/11 [00:07<00:00,  1.42it/s]\n"
     ]
    },
    {
     "name": "stdout",
     "output_type": "stream",
     "text": [
      "1069\n"
     ]
    },
    {
     "name": "stderr",
     "output_type": "stream",
     "text": [
      " 17%|█▋        | 2/12 [00:01<00:06,  1.47it/s]"
     ]
    },
    {
     "data": {
      "image/png": "[encoded data removed]",
      "text/plain": [
       "<Figure size 640x480 with 1 Axes>"
      ]
     },
     "metadata": {},
     "output_type": "display_data"
    },
    {
     "name": "stderr",
     "output_type": "stream",
     "text": [
      "100%|██████████| 12/12 [00:09<00:00,  1.33it/s]\n"
     ]
    },
    {
     "name": "stdout",
     "output_type": "stream",
     "text": [
      "20411\n"
     ]
    },
    {
     "name": "stderr",
     "output_type": "stream",
     "text": [
      "  1%|          | 2/176 [00:01<02:09,  1.35it/s]"
     ]
    },
    {
     "data": {
      "image/png": "[encoded data removed]",
      "text/plain": [
       "<Figure size 640x480 with 1 Axes>"
      ]
     },
     "metadata": {},
     "output_type": "display_data"
    },
    {
     "name": "stderr",
     "output_type": "stream",
     "text": [
      "100%|██████████| 176/176 [02:11<00:00,  1.34it/s]\n"
     ]
    },
    {
     "name": "stdout",
     "output_type": "stream",
     "text": [
      "1058\n"
     ]
    },
    {
     "name": "stderr",
     "output_type": "stream",
     "text": [
      " 17%|█▋        | 2/12 [00:01<00:07,  1.33it/s]"
     ]
    },
    {
     "data": {
      "image/png": "[encoded data removed]",
      "text/plain": [
       "<Figure size 640x480 with 1 Axes>"
      ]
     },
     "metadata": {},
     "output_type": "display_data"
    },
    {
     "name": "stderr",
     "output_type": "stream",
     "text": [
      "100%|██████████| 12/12 [00:09<00:00,  1.28it/s]\n"
     ]
    }
   ],
   "source": [
    "full_data = []\n",
    "for i, row in enumerate(news_data['text'][:5]):\n",
    "    curr_data = []\n",
    "    #text_sample = news_data['text'][0]\n",
    "    print(len(row))\n",
    "    _, data, *_ = m(re.split('\\. |\\! |\\? ', row))\n",
    "    for sen_id, sentence in tqdm(list(enumerate(data))):\n",
    "        \n",
    "        dgms = get_dmgs(sentence)\n",
    "        if sen_id == 2:\n",
    "            plot_diagrams(dgms, show=True)\n",
    "        curr_data.append(dgms)\n",
    "    full_data.append(curr_data)"
   ]
  },
  {
   "cell_type": "markdown",
   "metadata": {},
   "source": [
    "Filter diagrams without loops"
   ]
  },
  {
   "cell_type": "code",
   "execution_count": 15,
   "metadata": {},
   "outputs": [
    {
     "name": "stdout",
     "output_type": "stream",
     "text": [
      "before filtration [94, 11, 12, 176, 12]\n",
      "after_filtration [94, 11, 12, 176, 12]\n"
     ]
    }
   ],
   "source": [
    "def filter_rips(dmgs):\n",
    "    return [elem for elem in dmgs if type(elem)==list and len(elem)>=2 and len(elem[1]) >= 1]\n",
    "\n",
    "print('before filtration', [len(el) for el in full_data])\n",
    "full_data = [filter_rips(elem) for elem in full_data]\n",
    "print('after_filtration', [len(el) for el in full_data])"
   ]
  },
  {
   "cell_type": "code",
   "execution_count": 16,
   "metadata": {},
   "outputs": [],
   "source": [
    "def find_min_distance(key_dmg, dmgs, axis=1):\n",
    "    wdistance = []\n",
    "    for el in dmgs:\n",
    "        wdistance.append(persim.sliced_wasserstein(key_dmg[axis], el[axis]))\n",
    "    return np.min(wdistance)"
   ]
  },
  {
   "cell_type": "markdown",
   "metadata": {},
   "source": [
    "Compare diagrams"
   ]
  },
  {
   "cell_type": "code",
   "execution_count": 17,
   "metadata": {},
   "outputs": [
    {
     "name": "stdout",
     "output_type": "stream",
     "text": [
      "в акте освидетельствования  датированном 8 июня  днем аварии   говорится  что ефремов не отрицает употребление алкоголя\n"
     ]
    },
    {
     "data": {
      "image/png": "[encoded data removed]",
      "text/plain": [
       "<Figure size 640x480 with 1 Axes>"
      ]
     },
     "metadata": {},
     "output_type": "display_data"
    }
   ],
   "source": [
    "question = 'В акте освидетельствования, датированном 8 июня (днем аварии), говорится, что Ефремов не отрицает употребление алкоголя'\n",
    "#question = 'Днем 9 июня Ефремова доставили на допрос в УВД по Центральному административному округу Москвы. Изначально полиция завела в отношении актера уголовное дело о причинении тяжкого вреда здоровью человека при нарушении правил дорожного движения в состоянии опьянения.'\n",
    "#question = 'Проблемы ранней беременности существует во многих странах. Ежегодно тысячи юных девушек, еще не перешагнувших порог совершеннолетия, становятся матерями.'\n",
    "\n",
    "question = re.sub('\\@|\\$|\\*|\\[|\\]|\\(|\\)|\\\"|\\^|\\~|\\{|\\}|\\<|\\>|\\,|\\'|\\:|\\»|\\«' + '|\\.|\\!|\\?', ' ', question).lower()\n",
    "print(question)\n",
    "_, data, *_ = m(re.split('\\. |\\! |\\? ', question))        \n",
    "question_dgm = get_dmgs(data[0])\n",
    "plot_diagrams(question_dgm, show=True)"
   ]
  },
  {
   "cell_type": "code",
   "execution_count": 18,
   "metadata": {},
   "outputs": [
    {
     "data": {
      "text/html": [
       "<div>\n",
       "<style scoped>\n",
       "    .dataframe tbody tr th:only-of-type {\n",
       "        vertical-align: middle;\n",
       "    }\n",
       "\n",
       "    .dataframe tbody tr th {\n",
       "        vertical-align: top;\n",
       "    }\n",
       "\n",
       "    .dataframe thead th {\n",
       "        text-align: right;\n",
       "    }\n",
       "</style>\n",
       "<table border=\"1\" class=\"dataframe\">\n",
       "  <thead>\n",
       "    <tr style=\"text-align: right;\">\n",
       "      <th></th>\n",
       "      <th>title</th>\n",
       "      <th>text</th>\n",
       "    </tr>\n",
       "  </thead>\n",
       "  <tbody>\n",
       "    <tr>\n",
       "      <th>0</th>\n",
       "      <td>синий богатырь</td>\n",
       "      <td>в 1930-е годы советский союз охватила лихорадк...</td>\n",
       "    </tr>\n",
       "    <tr>\n",
       "      <th>1</th>\n",
       "      <td>загитова согласилась вести  ледниковый период</td>\n",
       "      <td>олимпийская чемпионка по фигурному катанию  ал...</td>\n",
       "    </tr>\n",
       "    <tr>\n",
       "      <th>2</th>\n",
       "      <td>объяснена опасность однообразного питания</td>\n",
       "      <td>российский врач-диетолог римма мойсенко объясн...</td>\n",
       "    </tr>\n",
       "    <tr>\n",
       "      <th>3</th>\n",
       "      <td>предохраняться? а зачем?</td>\n",
       "      <td>в 2019 году телеканал  ю  запустил адаптацию з...</td>\n",
       "    </tr>\n",
       "    <tr>\n",
       "      <th>4</th>\n",
       "      <td>ефремов систематически употреблял наркотики</td>\n",
       "      <td>актер  михаил ефремов  систематически употребл...</td>\n",
       "    </tr>\n",
       "  </tbody>\n",
       "</table>\n",
       "</div>"
      ],
      "text/plain": [
       "                                            title  \\\n",
       "0                                  синий богатырь   \n",
       "1  загитова согласилась вести  ледниковый период    \n",
       "2       объяснена опасность однообразного питания   \n",
       "3                       предохраняться? а зачем?    \n",
       "4     ефремов систематически употреблял наркотики   \n",
       "\n",
       "                                                text  \n",
       "0  в 1930-е годы советский союз охватила лихорадк...  \n",
       "1  олимпийская чемпионка по фигурному катанию  ал...  \n",
       "2  российский врач-диетолог римма мойсенко объясн...  \n",
       "3  в 2019 году телеканал  ю  запустил адаптацию з...  \n",
       "4  актер  михаил ефремов  систематически употребл...  "
      ]
     },
     "execution_count": 18,
     "metadata": {},
     "output_type": "execute_result"
    }
   ],
   "source": [
    "news_data.head()"
   ]
  },
  {
   "cell_type": "code",
   "execution_count": 19,
   "metadata": {},
   "outputs": [
    {
     "data": {
      "text/plain": [
       "'в акте освидетельствования  датированном 8 июня  днем аварии   говорится  что ефремов не отрицает употребление алкоголя'"
      ]
     },
     "execution_count": 19,
     "metadata": {},
     "output_type": "execute_result"
    }
   ],
   "source": [
    "question"
   ]
  },
  {
   "cell_type": "code",
   "execution_count": 20,
   "metadata": {},
   "outputs": [
    {
     "name": "stdout",
     "output_type": "stream",
     "text": [
      "0 6.862851500586229\n",
      "1 11.655346209092817\n",
      "2 6.67508293719878\n",
      "3 5.474059547177805\n",
      "4 5.339287703917762\n"
     ]
    }
   ],
   "source": [
    "for i,dmgs in enumerate(full_data):\n",
    "    print(i, find_min_distance(question_dgm, dmgs))"
   ]
  },
  {
   "cell_type": "markdown",
   "metadata": {},
   "source": [
    "# Text Retrieval"
   ]
  },
  {
   "cell_type": "markdown",
   "metadata": {},
   "source": [
    "As we saw before our data can be separated. We use SVM classifier to solve this task with 'ovo' strategy because for 2 differen articles data places in different clusters."
   ]
  },
  {
   "cell_type": "code",
   "execution_count": 21,
   "metadata": {},
   "outputs": [],
   "source": [
    "from sklearn.decomposition import PCA\n",
    "import numpy as np\n",
    "from sklearn.model_selection import train_test_split\n",
    "from sklearn.svm import SVC\n",
    "from sklearn.pipeline import make_pipeline"
   ]
  },
  {
   "cell_type": "code",
   "execution_count": 22,
   "metadata": {},
   "outputs": [],
   "source": [
    "\n",
    "def vis_tsne(text_data, idxs):\n",
    "    sentence_embs = []\n",
    "    sentence_ids = []\n",
    "    for i, row in tqdm(enumerate(text_data[idxs]), total=len(idxs)):\n",
    "        _, data, *_, sent_mean_embs, _ = m(re.split('\\. |\\! |\\? ', row))\n",
    "        sentence_embs.extend(list(sent_mean_embs))\n",
    "        sentence_ids.extend([i for _ in range(len(sent_mean_embs))])\n",
    "\n",
    "    #mapper = manifold.TSNE(n_components=N_COMPONENTS)\n",
    "    mapper = PCA(n_components=N_COMPONENTS)\n",
    "    sentences_2d = np.stack(sentence_embs)\n",
    "    print(sentences_2d.shape)\n",
    "    tsne_results = mapper.fit_transform(sentences_2d)\n",
    "\n",
    "    plt.figure(figsize=(10, 10))\n",
    "\n",
    "    sentence_label = np.array(sentence_ids)\n",
    "    for i, c in zip(sentence_label, sentence_ids):\n",
    "        plt.scatter(tsne_results[sentence_label == i, 0], tsne_results[sentence_label == i, 1], label=sentence_ids)\n",
    "    plt.show()"
   ]
  },
  {
   "cell_type": "markdown",
   "metadata": {},
   "source": [
    "Visualize 2 different articles"
   ]
  },
  {
   "cell_type": "code",
   "execution_count": 23,
   "metadata": {},
   "outputs": [
    {
     "name": "stderr",
     "output_type": "stream",
     "text": [
      "100%|██████████| 2/2 [00:42<00:00, 21.39s/it]\n"
     ]
    },
    {
     "name": "stdout",
     "output_type": "stream",
     "text": [
      "(270, 768)\n"
     ]
    },
    {
     "data": {
      "image/png": "[encoded data removed]",
      "text/plain": [
       "<Figure size 1000x1000 with 1 Axes>"
      ]
     },
     "metadata": {},
     "output_type": "display_data"
    }
   ],
   "source": [
    "\n",
    "vis_tsne(news_data['text'], [0,3])"
   ]
  },
  {
   "cell_type": "code",
   "execution_count": 24,
   "metadata": {},
   "outputs": [
    {
     "name": "stderr",
     "output_type": "stream",
     "text": [
      "100%|██████████| 2/2 [00:16<00:00,  8.28s/it]\n"
     ]
    },
    {
     "name": "stdout",
     "output_type": "stream",
     "text": [
      "(110, 768)\n"
     ]
    },
    {
     "data": {
      "image/png": "[encoded data removed]",
      "text/plain": [
       "<Figure size 1000x1000 with 1 Axes>"
      ]
     },
     "metadata": {},
     "output_type": "display_data"
    }
   ],
   "source": [
    "\n",
    "vis_tsne(news_data['text'], [6,9])"
   ]
  },
  {
   "cell_type": "code",
   "execution_count": 25,
   "metadata": {},
   "outputs": [
    {
     "name": "stderr",
     "output_type": "stream",
     "text": [
      "100%|██████████| 200/200 [04:37<00:00,  1.39s/it]\n"
     ]
    }
   ],
   "source": [
    "\n",
    "NEWS_SIZE = 200\n",
    "\n",
    "sentence_embs = []\n",
    "sentence_ids = []\n",
    "for i, row in tqdm(enumerate(news_data['text'][:NEWS_SIZE]), total=NEWS_SIZE):\n",
    "    _, data, *_, sent_mean_embs, _ = m(re.split('\\. |\\! |\\? ', row))\n",
    "    sentence_embs.extend(list(sent_mean_embs))\n",
    "    sentence_ids.extend([i for _ in range(len(sent_mean_embs))])\n",
    "\n",
    "\n",
    "sentence_embs = np.array(sentence_embs)\n",
    "sentence_ids = np.array(sentence_ids)\n",
    "\n",
    "X_train, X_test, y_train, y_test = train_test_split(\n",
    "    sentence_embs, sentence_ids, test_size=0.2, random_state=42)\n"
   ]
  },
  {
   "cell_type": "markdown",
   "metadata": {},
   "source": [
    "# Some experiments"
   ]
  },
  {
   "cell_type": "markdown",
   "metadata": {},
   "source": [
    "By using TDA we found that data can be placed into 2 different cluster on 2d space. By this knowlegde we use SVM classifier to find nearest paper to query."
   ]
  },
  {
   "cell_type": "markdown",
   "metadata": {},
   "source": [
    "SVC with default kernel"
   ]
  },
  {
   "cell_type": "code",
   "execution_count": 33,
   "metadata": {},
   "outputs": [
    {
     "name": "stdout",
     "output_type": "stream",
     "text": [
      "SVC with default rbf kernel ovo score 0.20246478873239437\n"
     ]
    }
   ],
   "source": [
    "clf = make_pipeline(SVC(gamma='auto', decision_function_shape='ovo', kernel='rbf'))\n",
    "clf.fit(X_train, y_train)\n",
    "print('SVC with default rbf kernel ovo score', clf.score(X_test, y_test))\n"
   ]
  },
  {
   "cell_type": "markdown",
   "metadata": {},
   "source": [
    "SVC with no kernel"
   ]
  },
  {
   "cell_type": "code",
   "execution_count": 30,
   "metadata": {},
   "outputs": [
    {
     "name": "stdout",
     "output_type": "stream",
     "text": [
      "SVC ovo score with PCA 0.11091549295774648\n"
     ]
    }
   ],
   "source": [
    "\n",
    "clf = make_pipeline(PCA(N_COMPONENTS), SVC(gamma='auto', decision_function_shape='ovo', kernel='linear'))\n",
    "clf.fit(X_train, y_train)\n",
    "print('SVC with linear kernel ovo score  with PCA', clf.score(X_test, y_test))"
   ]
  },
  {
   "cell_type": "code",
   "execution_count": 31,
   "metadata": {},
   "outputs": [
    {
     "name": "stdout",
     "output_type": "stream",
     "text": [
      "SVC ovo score 0.4119718309859155\n"
     ]
    }
   ],
   "source": [
    "clf = make_pipeline(SVC(gamma='auto', decision_function_shape='ovo', kernel='linear'))\n",
    "clf.fit(X_train, y_train)\n",
    "print('SVC with linear kernel ovo score', clf.score(X_test, y_test))\n"
   ]
  },
  {
   "cell_type": "markdown",
   "metadata": {},
   "source": [
    "As we see by using TDA we can alalyse what distribution lies for data and use simple and fast algorythms to make fast acceptable baseline and then find better solution"
   ]
  },
  {
   "cell_type": "code",
   "execution_count": null,
   "metadata": {},
   "outputs": [],
   "source": []
  }
 ],
 "metadata": {
  "kernelspec": {
   "display_name": "Python 3",
   "language": "python",
   "name": "python3"
  },
  "language_info": {
   "codemirror_mode": {
    "name": "ipython",
    "version": 3
   },
   "file_extension": ".py",
   "mimetype": "text/x-python",
   "name": "python",
   "nbconvert_exporter": "python",
   "pygments_lexer": "ipython3",
   "version": "3.6.9"
  }
 },
 "nbformat": 4,
 "nbformat_minor": 4
}
